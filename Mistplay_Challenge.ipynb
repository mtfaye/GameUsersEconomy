{
  "nbformat": 4,
  "nbformat_minor": 0,
  "metadata": {
    "colab": {
      "name": "Mistplay-Challenge.ipynb",
      "provenance": [],
      "collapsed_sections": [],
      "include_colab_link": true
    },
    "kernelspec": {
      "name": "python3",
      "display_name": "Python 3"
    }
  },
  "cells": [
    {
      "cell_type": "markdown",
      "metadata": {
        "id": "view-in-github",
        "colab_type": "text"
      },
      "source": [
        "<a href=\"https://colab.research.google.com/github/mtfaye/data-analyst-challenge/blob/master/Mistplay_Challenge.ipynb\" target=\"_parent\"><img src=\"https://colab.research.google.com/assets/colab-badge.svg\" alt=\"Open In Colab\"/></a>"
      ]
    },
    {
      "cell_type": "markdown",
      "metadata": {
        "id": "RytAwbUF48yc",
        "colab_type": "text"
      },
      "source": [
        "\n",
        "## **Mistplay - Data Analyst Challenge**\n"
      ]
    },
    {
      "cell_type": "code",
      "metadata": {
        "id": "0exlnHAW6fnG",
        "colab_type": "code",
        "colab": {}
      },
      "source": [
        "import json\n",
        "import pandas as pd \n",
        "import seaborn as sns\n",
        "from ast import literal_eval\n",
        "import matplotlib.pyplot as plt"
      ],
      "execution_count": 0,
      "outputs": []
    },
    {
      "cell_type": "code",
      "metadata": {
        "id": "ml-vs2xi5mK9",
        "colab_type": "code",
        "outputId": "c1bebe90-41c7-4b0a-eaf2-43075364e433",
        "colab": {
          "base_uri": "https://localhost:8080/",
          "height": 55
        }
      },
      "source": [
        "from google.colab import drive\n",
        "drive.mount('/content/drive')"
      ],
      "execution_count": 2,
      "outputs": [
        {
          "output_type": "stream",
          "text": [
            "Drive already mounted at /content/drive; to attempt to forcibly remount, call drive.mount(\"/content/drive\", force_remount=True).\n"
          ],
          "name": "stdout"
        }
      ]
    },
    {
      "cell_type": "markdown",
      "metadata": {
        "id": "NpIbHjp85XSJ",
        "colab_type": "text"
      },
      "source": [
        "### **1 - Plot difference in ltv, ttime, and tue**"
      ]
    },
    {
      "cell_type": "code",
      "metadata": {
        "id": "jS0Rcv_x6Tfv",
        "colab_type": "code",
        "colab": {}
      },
      "source": [
        "# Load takeHome.csv\n",
        "df = pd.read_csv('/content/drive/My Drive/Data analyst challenge/takeHome.csv')"
      ],
      "execution_count": 0,
      "outputs": []
    },
    {
      "cell_type": "code",
      "metadata": {
        "id": "UpWJSzCo7C_b",
        "colab_type": "code",
        "outputId": "bf26f20e-656d-4378-876f-db74f5974bed",
        "colab": {
          "base_uri": "https://localhost:8080/",
          "height": 407
        }
      },
      "source": [
        "df"
      ],
      "execution_count": 4,
      "outputs": [
        {
          "output_type": "execute_result",
          "data": {
            "text/html": [
              "<div>\n",
              "<style scoped>\n",
              "    .dataframe tbody tr th:only-of-type {\n",
              "        vertical-align: middle;\n",
              "    }\n",
              "\n",
              "    .dataframe tbody tr th {\n",
              "        vertical-align: top;\n",
              "    }\n",
              "\n",
              "    .dataframe thead th {\n",
              "        text-align: right;\n",
              "    }\n",
              "</style>\n",
              "<table border=\"1\" class=\"dataframe\">\n",
              "  <thead>\n",
              "    <tr style=\"text-align: right;\">\n",
              "      <th></th>\n",
              "      <th>ltv</th>\n",
              "      <th>ttime</th>\n",
              "      <th>abt</th>\n",
              "      <th>tue</th>\n",
              "    </tr>\n",
              "  </thead>\n",
              "  <tbody>\n",
              "    <tr>\n",
              "      <th>0</th>\n",
              "      <td>{\"n\":\"250\"}</td>\n",
              "      <td>{\"n\":\"1077572\"}</td>\n",
              "      <td>{\"n\":\"31\"}</td>\n",
              "      <td>{\"n\":\"38\"}</td>\n",
              "    </tr>\n",
              "    <tr>\n",
              "      <th>1</th>\n",
              "      <td>{\"n\":\"49\"}</td>\n",
              "      <td>{\"n\":\"60028\"}</td>\n",
              "      <td>{\"n\":\"32\"}</td>\n",
              "      <td>{\"n\":\"15\"}</td>\n",
              "    </tr>\n",
              "    <tr>\n",
              "      <th>2</th>\n",
              "      <td>{\"n\":\"680\"}</td>\n",
              "      <td>{\"n\":\"2018285\"}</td>\n",
              "      <td>{\"n\":\"7\"}</td>\n",
              "      <td>{\"n\":\"46\"}</td>\n",
              "    </tr>\n",
              "    <tr>\n",
              "      <th>3</th>\n",
              "      <td>{\"n\":\"125\"}</td>\n",
              "      <td>{\"n\":\"98142\"}</td>\n",
              "      <td>{\"n\":\"11\"}</td>\n",
              "      <td>{\"n\":\"15\"}</td>\n",
              "    </tr>\n",
              "    <tr>\n",
              "      <th>4</th>\n",
              "      <td>{\"n\":\"450\"}</td>\n",
              "      <td>{\"n\":\"115692\"}</td>\n",
              "      <td>{\"n\":\"9\"}</td>\n",
              "      <td>{\"n\":\"15\"}</td>\n",
              "    </tr>\n",
              "    <tr>\n",
              "      <th>...</th>\n",
              "      <td>...</td>\n",
              "      <td>...</td>\n",
              "      <td>...</td>\n",
              "      <td>...</td>\n",
              "    </tr>\n",
              "    <tr>\n",
              "      <th>9994</th>\n",
              "      <td>{\"n\":\"250\"}</td>\n",
              "      <td>{\"n\":\"4002074\"}</td>\n",
              "      <td>{\"n\":\"23\"}</td>\n",
              "      <td>{\"n\":\"127\"}</td>\n",
              "    </tr>\n",
              "    <tr>\n",
              "      <th>9995</th>\n",
              "      <td>{\"n\":\"250\"}</td>\n",
              "      <td>{\"n\":\"2134787\"}</td>\n",
              "      <td>{\"n\":\"28\"}</td>\n",
              "      <td>{\"n\":\"53\"}</td>\n",
              "    </tr>\n",
              "    <tr>\n",
              "      <th>9996</th>\n",
              "      <td>{\"n\":\"150\"}</td>\n",
              "      <td>{\"n\":\"107426\"}</td>\n",
              "      <td>{\"n\":\"53\"}</td>\n",
              "      <td>{\"n\":\"15\"}</td>\n",
              "    </tr>\n",
              "    <tr>\n",
              "      <th>9997</th>\n",
              "      <td>{\"n\":\"72\"}</td>\n",
              "      <td>{\"n\":\"0\"}</td>\n",
              "      <td>{\"n\":\"26\"}</td>\n",
              "      <td>{\"n\":\"15\"}</td>\n",
              "    </tr>\n",
              "    <tr>\n",
              "      <th>9998</th>\n",
              "      <td>{\"n\":\"175\"}</td>\n",
              "      <td>{\"n\":\"381875\"}</td>\n",
              "      <td>{\"n\":\"3\"}</td>\n",
              "      <td>{\"n\":\"25\"}</td>\n",
              "    </tr>\n",
              "  </tbody>\n",
              "</table>\n",
              "<p>9999 rows × 4 columns</p>\n",
              "</div>"
            ],
            "text/plain": [
              "              ltv            ttime         abt          tue\n",
              "0     {\"n\":\"250\"}  {\"n\":\"1077572\"}  {\"n\":\"31\"}   {\"n\":\"38\"}\n",
              "1      {\"n\":\"49\"}    {\"n\":\"60028\"}  {\"n\":\"32\"}   {\"n\":\"15\"}\n",
              "2     {\"n\":\"680\"}  {\"n\":\"2018285\"}   {\"n\":\"7\"}   {\"n\":\"46\"}\n",
              "3     {\"n\":\"125\"}    {\"n\":\"98142\"}  {\"n\":\"11\"}   {\"n\":\"15\"}\n",
              "4     {\"n\":\"450\"}   {\"n\":\"115692\"}   {\"n\":\"9\"}   {\"n\":\"15\"}\n",
              "...           ...              ...         ...          ...\n",
              "9994  {\"n\":\"250\"}  {\"n\":\"4002074\"}  {\"n\":\"23\"}  {\"n\":\"127\"}\n",
              "9995  {\"n\":\"250\"}  {\"n\":\"2134787\"}  {\"n\":\"28\"}   {\"n\":\"53\"}\n",
              "9996  {\"n\":\"150\"}   {\"n\":\"107426\"}  {\"n\":\"53\"}   {\"n\":\"15\"}\n",
              "9997   {\"n\":\"72\"}        {\"n\":\"0\"}  {\"n\":\"26\"}   {\"n\":\"15\"}\n",
              "9998  {\"n\":\"175\"}   {\"n\":\"381875\"}   {\"n\":\"3\"}   {\"n\":\"25\"}\n",
              "\n",
              "[9999 rows x 4 columns]"
            ]
          },
          "metadata": {
            "tags": []
          },
          "execution_count": 4
        }
      ]
    },
    {
      "cell_type": "code",
      "metadata": {
        "id": "6Ht9V6oI-qsw",
        "colab_type": "code",
        "outputId": "df6a2026-70f6-4c34-83d6-edfb1e74ccc5",
        "colab": {
          "base_uri": "https://localhost:8080/",
          "height": 407
        }
      },
      "source": [
        "# Remove characters\n",
        "df = df.replace(['{', '\"', ':', 'n', '}'], ' ', regex=True)\n",
        "df"
      ],
      "execution_count": 5,
      "outputs": [
        {
          "output_type": "execute_result",
          "data": {
            "text/html": [
              "<div>\n",
              "<style scoped>\n",
              "    .dataframe tbody tr th:only-of-type {\n",
              "        vertical-align: middle;\n",
              "    }\n",
              "\n",
              "    .dataframe tbody tr th {\n",
              "        vertical-align: top;\n",
              "    }\n",
              "\n",
              "    .dataframe thead th {\n",
              "        text-align: right;\n",
              "    }\n",
              "</style>\n",
              "<table border=\"1\" class=\"dataframe\">\n",
              "  <thead>\n",
              "    <tr style=\"text-align: right;\">\n",
              "      <th></th>\n",
              "      <th>ltv</th>\n",
              "      <th>ttime</th>\n",
              "      <th>abt</th>\n",
              "      <th>tue</th>\n",
              "    </tr>\n",
              "  </thead>\n",
              "  <tbody>\n",
              "    <tr>\n",
              "      <th>0</th>\n",
              "      <td>250</td>\n",
              "      <td>1077572</td>\n",
              "      <td>31</td>\n",
              "      <td>38</td>\n",
              "    </tr>\n",
              "    <tr>\n",
              "      <th>1</th>\n",
              "      <td>49</td>\n",
              "      <td>60028</td>\n",
              "      <td>32</td>\n",
              "      <td>15</td>\n",
              "    </tr>\n",
              "    <tr>\n",
              "      <th>2</th>\n",
              "      <td>680</td>\n",
              "      <td>2018285</td>\n",
              "      <td>7</td>\n",
              "      <td>46</td>\n",
              "    </tr>\n",
              "    <tr>\n",
              "      <th>3</th>\n",
              "      <td>125</td>\n",
              "      <td>98142</td>\n",
              "      <td>11</td>\n",
              "      <td>15</td>\n",
              "    </tr>\n",
              "    <tr>\n",
              "      <th>4</th>\n",
              "      <td>450</td>\n",
              "      <td>115692</td>\n",
              "      <td>9</td>\n",
              "      <td>15</td>\n",
              "    </tr>\n",
              "    <tr>\n",
              "      <th>...</th>\n",
              "      <td>...</td>\n",
              "      <td>...</td>\n",
              "      <td>...</td>\n",
              "      <td>...</td>\n",
              "    </tr>\n",
              "    <tr>\n",
              "      <th>9994</th>\n",
              "      <td>250</td>\n",
              "      <td>4002074</td>\n",
              "      <td>23</td>\n",
              "      <td>127</td>\n",
              "    </tr>\n",
              "    <tr>\n",
              "      <th>9995</th>\n",
              "      <td>250</td>\n",
              "      <td>2134787</td>\n",
              "      <td>28</td>\n",
              "      <td>53</td>\n",
              "    </tr>\n",
              "    <tr>\n",
              "      <th>9996</th>\n",
              "      <td>150</td>\n",
              "      <td>107426</td>\n",
              "      <td>53</td>\n",
              "      <td>15</td>\n",
              "    </tr>\n",
              "    <tr>\n",
              "      <th>9997</th>\n",
              "      <td>72</td>\n",
              "      <td>0</td>\n",
              "      <td>26</td>\n",
              "      <td>15</td>\n",
              "    </tr>\n",
              "    <tr>\n",
              "      <th>9998</th>\n",
              "      <td>175</td>\n",
              "      <td>381875</td>\n",
              "      <td>3</td>\n",
              "      <td>25</td>\n",
              "    </tr>\n",
              "  </tbody>\n",
              "</table>\n",
              "<p>9999 rows × 4 columns</p>\n",
              "</div>"
            ],
            "text/plain": [
              "              ltv            ttime         abt          tue\n",
              "0           250          1077572          31           38  \n",
              "1            49            60028          32           15  \n",
              "2           680          2018285           7           46  \n",
              "3           125            98142          11           15  \n",
              "4           450           115692           9           15  \n",
              "...           ...              ...         ...          ...\n",
              "9994        250          4002074          23          127  \n",
              "9995        250          2134787          28           53  \n",
              "9996        150           107426          53           15  \n",
              "9997         72                0          26           15  \n",
              "9998        175           381875           3           25  \n",
              "\n",
              "[9999 rows x 4 columns]"
            ]
          },
          "metadata": {
            "tags": []
          },
          "execution_count": 5
        }
      ]
    },
    {
      "cell_type": "code",
      "metadata": {
        "id": "EGVXtcxrA5PY",
        "colab_type": "code",
        "outputId": "3ad61098-fe47-480b-9e1b-4c3c5dcd53a2",
        "colab": {
          "base_uri": "https://localhost:8080/",
          "height": 173
        }
      },
      "source": [
        "# Check missing values\n",
        "df.info()"
      ],
      "execution_count": 6,
      "outputs": [
        {
          "output_type": "stream",
          "text": [
            "<class 'pandas.core.frame.DataFrame'>\n",
            "RangeIndex: 9999 entries, 0 to 9998\n",
            "Data columns (total 4 columns):\n",
            "ltv      9998 non-null object\n",
            "ttime    9999 non-null object\n",
            "abt      9999 non-null object\n",
            "tue      9997 non-null object\n",
            "dtypes: object(4)\n",
            "memory usage: 312.6+ KB\n"
          ],
          "name": "stdout"
        }
      ]
    },
    {
      "cell_type": "code",
      "metadata": {
        "id": "f7GcvuDgmUdT",
        "colab_type": "code",
        "outputId": "4000df15-cc40-46df-a0c5-2fbb40fb1210",
        "colab": {
          "base_uri": "https://localhost:8080/",
          "height": 173
        }
      },
      "source": [
        "# Column ltv and tue have missing values\n",
        "# Drop rows with missing values\n",
        "df = df.dropna()\n",
        "df.info()"
      ],
      "execution_count": 7,
      "outputs": [
        {
          "output_type": "stream",
          "text": [
            "<class 'pandas.core.frame.DataFrame'>\n",
            "Int64Index: 9996 entries, 0 to 9998\n",
            "Data columns (total 4 columns):\n",
            "ltv      9996 non-null object\n",
            "ttime    9996 non-null object\n",
            "abt      9996 non-null object\n",
            "tue      9996 non-null object\n",
            "dtypes: object(4)\n",
            "memory usage: 390.5+ KB\n"
          ],
          "name": "stdout"
        }
      ]
    },
    {
      "cell_type": "code",
      "metadata": {
        "id": "jGccbjGYBxvi",
        "colab_type": "code",
        "outputId": "98370944-32ca-4705-ba67-31a08eeaa3bd",
        "colab": {
          "base_uri": "https://localhost:8080/",
          "height": 104
        }
      },
      "source": [
        "# Convert data types from string to float \n",
        "df = df.astype({'ltv': float ,'ttime': float, 'abt': float, 'tue':float})\n",
        "df.dtypes"
      ],
      "execution_count": 8,
      "outputs": [
        {
          "output_type": "execute_result",
          "data": {
            "text/plain": [
              "ltv      float64\n",
              "ttime    float64\n",
              "abt      float64\n",
              "tue      float64\n",
              "dtype: object"
            ]
          },
          "metadata": {
            "tags": []
          },
          "execution_count": 8
        }
      ]
    },
    {
      "cell_type": "code",
      "metadata": {
        "id": "ji-EsUDgGvVQ",
        "colab_type": "code",
        "outputId": "06a02e27-9d04-4a85-d6aa-18fd609fa8e3",
        "colab": {
          "base_uri": "https://localhost:8080/",
          "height": 288
        }
      },
      "source": [
        "# Some stats overview\n",
        "df.describe() "
      ],
      "execution_count": 9,
      "outputs": [
        {
          "output_type": "execute_result",
          "data": {
            "text/html": [
              "<div>\n",
              "<style scoped>\n",
              "    .dataframe tbody tr th:only-of-type {\n",
              "        vertical-align: middle;\n",
              "    }\n",
              "\n",
              "    .dataframe tbody tr th {\n",
              "        vertical-align: top;\n",
              "    }\n",
              "\n",
              "    .dataframe thead th {\n",
              "        text-align: right;\n",
              "    }\n",
              "</style>\n",
              "<table border=\"1\" class=\"dataframe\">\n",
              "  <thead>\n",
              "    <tr style=\"text-align: right;\">\n",
              "      <th></th>\n",
              "      <th>ltv</th>\n",
              "      <th>ttime</th>\n",
              "      <th>abt</th>\n",
              "      <th>tue</th>\n",
              "    </tr>\n",
              "  </thead>\n",
              "  <tbody>\n",
              "    <tr>\n",
              "      <th>count</th>\n",
              "      <td>9996.000000</td>\n",
              "      <td>9.996000e+03</td>\n",
              "      <td>9996.000000</td>\n",
              "      <td>9996.000000</td>\n",
              "    </tr>\n",
              "    <tr>\n",
              "      <th>mean</th>\n",
              "      <td>388.548219</td>\n",
              "      <td>1.455021e+07</td>\n",
              "      <td>30.284314</td>\n",
              "      <td>193.528311</td>\n",
              "    </tr>\n",
              "    <tr>\n",
              "      <th>std</th>\n",
              "      <td>417.700380</td>\n",
              "      <td>6.361143e+07</td>\n",
              "      <td>17.402454</td>\n",
              "      <td>551.032452</td>\n",
              "    </tr>\n",
              "    <tr>\n",
              "      <th>min</th>\n",
              "      <td>0.000000</td>\n",
              "      <td>0.000000e+00</td>\n",
              "      <td>1.000000</td>\n",
              "      <td>15.000000</td>\n",
              "    </tr>\n",
              "    <tr>\n",
              "      <th>25%</th>\n",
              "      <td>200.000000</td>\n",
              "      <td>1.148820e+05</td>\n",
              "      <td>15.000000</td>\n",
              "      <td>15.000000</td>\n",
              "    </tr>\n",
              "    <tr>\n",
              "      <th>50%</th>\n",
              "      <td>250.000000</td>\n",
              "      <td>8.482985e+05</td>\n",
              "      <td>30.000000</td>\n",
              "      <td>33.000000</td>\n",
              "    </tr>\n",
              "    <tr>\n",
              "      <th>75%</th>\n",
              "      <td>450.000000</td>\n",
              "      <td>4.450682e+06</td>\n",
              "      <td>45.000000</td>\n",
              "      <td>118.250000</td>\n",
              "    </tr>\n",
              "    <tr>\n",
              "      <th>max</th>\n",
              "      <td>8481.000000</td>\n",
              "      <td>1.735807e+09</td>\n",
              "      <td>60.000000</td>\n",
              "      <td>10563.000000</td>\n",
              "    </tr>\n",
              "  </tbody>\n",
              "</table>\n",
              "</div>"
            ],
            "text/plain": [
              "               ltv         ttime          abt           tue\n",
              "count  9996.000000  9.996000e+03  9996.000000   9996.000000\n",
              "mean    388.548219  1.455021e+07    30.284314    193.528311\n",
              "std     417.700380  6.361143e+07    17.402454    551.032452\n",
              "min       0.000000  0.000000e+00     1.000000     15.000000\n",
              "25%     200.000000  1.148820e+05    15.000000     15.000000\n",
              "50%     250.000000  8.482985e+05    30.000000     33.000000\n",
              "75%     450.000000  4.450682e+06    45.000000    118.250000\n",
              "max    8481.000000  1.735807e+09    60.000000  10563.000000"
            ]
          },
          "metadata": {
            "tags": []
          },
          "execution_count": 9
        }
      ]
    },
    {
      "cell_type": "code",
      "metadata": {
        "id": "usl2iMpPQQM-",
        "colab_type": "code",
        "outputId": "4d4d4902-2cd4-41b6-8c2e-5d2f39d831ad",
        "colab": {
          "base_uri": "https://localhost:8080/",
          "height": 124
        }
      },
      "source": [
        "# Verify correlation between attributes\n",
        "df.corr().style.format(\"{:.2}\").background_gradient\\\n",
        "(cmap=plt.get_cmap('coolwarm'), axis=1)"
      ],
      "execution_count": 10,
      "outputs": [
        {
          "output_type": "execute_result",
          "data": {
            "text/html": [
              "<style  type=\"text/css\" >\n",
              "    #T_84f360be_14e5_11ea_b36f_0242ac1c0002row0_col0 {\n",
              "            background-color:  #b40426;\n",
              "            color:  #f1f1f1;\n",
              "        }    #T_84f360be_14e5_11ea_b36f_0242ac1c0002row0_col1 {\n",
              "            background-color:  #ccd9ed;\n",
              "            color:  #000000;\n",
              "        }    #T_84f360be_14e5_11ea_b36f_0242ac1c0002row0_col2 {\n",
              "            background-color:  #3b4cc0;\n",
              "            color:  #f1f1f1;\n",
              "        }    #T_84f360be_14e5_11ea_b36f_0242ac1c0002row0_col3 {\n",
              "            background-color:  #efcebd;\n",
              "            color:  #000000;\n",
              "        }    #T_84f360be_14e5_11ea_b36f_0242ac1c0002row1_col0 {\n",
              "            background-color:  #cdd9ec;\n",
              "            color:  #000000;\n",
              "        }    #T_84f360be_14e5_11ea_b36f_0242ac1c0002row1_col1 {\n",
              "            background-color:  #b40426;\n",
              "            color:  #f1f1f1;\n",
              "        }    #T_84f360be_14e5_11ea_b36f_0242ac1c0002row1_col2 {\n",
              "            background-color:  #3b4cc0;\n",
              "            color:  #f1f1f1;\n",
              "        }    #T_84f360be_14e5_11ea_b36f_0242ac1c0002row1_col3 {\n",
              "            background-color:  #eb7d62;\n",
              "            color:  #000000;\n",
              "        }    #T_84f360be_14e5_11ea_b36f_0242ac1c0002row2_col0 {\n",
              "            background-color:  #4358cb;\n",
              "            color:  #f1f1f1;\n",
              "        }    #T_84f360be_14e5_11ea_b36f_0242ac1c0002row2_col1 {\n",
              "            background-color:  #3f53c6;\n",
              "            color:  #f1f1f1;\n",
              "        }    #T_84f360be_14e5_11ea_b36f_0242ac1c0002row2_col2 {\n",
              "            background-color:  #b40426;\n",
              "            color:  #f1f1f1;\n",
              "        }    #T_84f360be_14e5_11ea_b36f_0242ac1c0002row2_col3 {\n",
              "            background-color:  #3b4cc0;\n",
              "            color:  #f1f1f1;\n",
              "        }    #T_84f360be_14e5_11ea_b36f_0242ac1c0002row3_col0 {\n",
              "            background-color:  #f1ccb8;\n",
              "            color:  #000000;\n",
              "        }    #T_84f360be_14e5_11ea_b36f_0242ac1c0002row3_col1 {\n",
              "            background-color:  #ea7b60;\n",
              "            color:  #000000;\n",
              "        }    #T_84f360be_14e5_11ea_b36f_0242ac1c0002row3_col2 {\n",
              "            background-color:  #3b4cc0;\n",
              "            color:  #f1f1f1;\n",
              "        }    #T_84f360be_14e5_11ea_b36f_0242ac1c0002row3_col3 {\n",
              "            background-color:  #b40426;\n",
              "            color:  #f1f1f1;\n",
              "        }</style><table id=\"T_84f360be_14e5_11ea_b36f_0242ac1c0002\" ><thead>    <tr>        <th class=\"blank level0\" ></th>        <th class=\"col_heading level0 col0\" >ltv</th>        <th class=\"col_heading level0 col1\" >ttime</th>        <th class=\"col_heading level0 col2\" >abt</th>        <th class=\"col_heading level0 col3\" >tue</th>    </tr></thead><tbody>\n",
              "                <tr>\n",
              "                        <th id=\"T_84f360be_14e5_11ea_b36f_0242ac1c0002level0_row0\" class=\"row_heading level0 row0\" >ltv</th>\n",
              "                        <td id=\"T_84f360be_14e5_11ea_b36f_0242ac1c0002row0_col0\" class=\"data row0 col0\" >1.0</td>\n",
              "                        <td id=\"T_84f360be_14e5_11ea_b36f_0242ac1c0002row0_col1\" class=\"data row0 col1\" >0.43</td>\n",
              "                        <td id=\"T_84f360be_14e5_11ea_b36f_0242ac1c0002row0_col2\" class=\"data row0 col2\" >-0.0065</td>\n",
              "                        <td id=\"T_84f360be_14e5_11ea_b36f_0242ac1c0002row0_col3\" class=\"data row0 col3\" >0.58</td>\n",
              "            </tr>\n",
              "            <tr>\n",
              "                        <th id=\"T_84f360be_14e5_11ea_b36f_0242ac1c0002level0_row1\" class=\"row_heading level0 row1\" >ttime</th>\n",
              "                        <td id=\"T_84f360be_14e5_11ea_b36f_0242ac1c0002row1_col0\" class=\"data row1 col0\" >0.43</td>\n",
              "                        <td id=\"T_84f360be_14e5_11ea_b36f_0242ac1c0002row1_col1\" class=\"data row1 col1\" >1.0</td>\n",
              "                        <td id=\"T_84f360be_14e5_11ea_b36f_0242ac1c0002row1_col2\" class=\"data row1 col2\" >-0.017</td>\n",
              "                        <td id=\"T_84f360be_14e5_11ea_b36f_0242ac1c0002row1_col3\" class=\"data row1 col3\" >0.81</td>\n",
              "            </tr>\n",
              "            <tr>\n",
              "                        <th id=\"T_84f360be_14e5_11ea_b36f_0242ac1c0002level0_row2\" class=\"row_heading level0 row2\" >abt</th>\n",
              "                        <td id=\"T_84f360be_14e5_11ea_b36f_0242ac1c0002row2_col0\" class=\"data row2 col0\" >-0.0065</td>\n",
              "                        <td id=\"T_84f360be_14e5_11ea_b36f_0242ac1c0002row2_col1\" class=\"data row2 col1\" >-0.017</td>\n",
              "                        <td id=\"T_84f360be_14e5_11ea_b36f_0242ac1c0002row2_col2\" class=\"data row2 col2\" >1.0</td>\n",
              "                        <td id=\"T_84f360be_14e5_11ea_b36f_0242ac1c0002row2_col3\" class=\"data row2 col3\" >-0.035</td>\n",
              "            </tr>\n",
              "            <tr>\n",
              "                        <th id=\"T_84f360be_14e5_11ea_b36f_0242ac1c0002level0_row3\" class=\"row_heading level0 row3\" >tue</th>\n",
              "                        <td id=\"T_84f360be_14e5_11ea_b36f_0242ac1c0002row3_col0\" class=\"data row3 col0\" >0.58</td>\n",
              "                        <td id=\"T_84f360be_14e5_11ea_b36f_0242ac1c0002row3_col1\" class=\"data row3 col1\" >0.81</td>\n",
              "                        <td id=\"T_84f360be_14e5_11ea_b36f_0242ac1c0002row3_col2\" class=\"data row3 col2\" >-0.035</td>\n",
              "                        <td id=\"T_84f360be_14e5_11ea_b36f_0242ac1c0002row3_col3\" class=\"data row3 col3\" >1.0</td>\n",
              "            </tr>\n",
              "    </tbody></table>"
            ],
            "text/plain": [
              "<pandas.io.formats.style.Styler at 0x7fa821c0cf60>"
            ]
          },
          "metadata": {
            "tags": []
          },
          "execution_count": 10
        }
      ]
    },
    {
      "cell_type": "code",
      "metadata": {
        "id": "l-9w2pS2vrdk",
        "colab_type": "code",
        "outputId": "301ecae2-9391-4088-f55d-bdfaad11e3aa",
        "colab": {
          "base_uri": "https://localhost:8080/",
          "height": 296
        }
      },
      "source": [
        "sns.distplot(df.ltv)"
      ],
      "execution_count": 11,
      "outputs": [
        {
          "output_type": "execute_result",
          "data": {
            "text/plain": [
              "<matplotlib.axes._subplots.AxesSubplot at 0x7fa8218026d8>"
            ]
          },
          "metadata": {
            "tags": []
          },
          "execution_count": 11
        },
        {
          "output_type": "display_data",
          "data": {
            "image/png": "[encoded data removed]",
            "text/plain": [
              "<Figure size 432x288 with 1 Axes>"
            ]
          },
          "metadata": {
            "tags": []
          }
        }
      ]
    },
    {
      "cell_type": "code",
      "metadata": {
        "id": "rComPYb1lveT",
        "colab_type": "code",
        "outputId": "ab5a15c3-ef49-482c-d84a-1edf57953fad",
        "colab": {
          "base_uri": "https://localhost:8080/",
          "height": 307
        }
      },
      "source": [
        "sns.distplot(df.ttime)"
      ],
      "execution_count": 12,
      "outputs": [
        {
          "output_type": "execute_result",
          "data": {
            "text/plain": [
              "<matplotlib.axes._subplots.AxesSubplot at 0x7fa820d9d8d0>"
            ]
          },
          "metadata": {
            "tags": []
          },
          "execution_count": 12
        },
        {
          "output_type": "display_data",
          "data": {
            "image/png": "[encoded data removed]",
            "text/plain": [
              "<Figure size 432x288 with 1 Axes>"
            ]
          },
          "metadata": {
            "tags": []
          }
        }
      ]
    },
    {
      "cell_type": "code",
      "metadata": {
        "id": "1kSFMyi_n-mn",
        "colab_type": "code",
        "outputId": "1029dadc-7ba3-43e0-c7c2-55c1f78e9b06",
        "colab": {
          "base_uri": "https://localhost:8080/",
          "height": 296
        }
      },
      "source": [
        "sns.distplot(df.tue)"
      ],
      "execution_count": 13,
      "outputs": [
        {
          "output_type": "execute_result",
          "data": {
            "text/plain": [
              "<matplotlib.axes._subplots.AxesSubplot at 0x7fa820d0bef0>"
            ]
          },
          "metadata": {
            "tags": []
          },
          "execution_count": 13
        },
        {
          "output_type": "display_data",
          "data": {
            "image/png": "[encoded data removed]",
            "text/plain": [
              "<Figure size 432x288 with 1 Axes>"
            ]
          },
          "metadata": {
            "tags": []
          }
        }
      ]
    },
    {
      "cell_type": "markdown",
      "metadata": {
        "id": "bRW8MmUCSrdX",
        "colab_type": "text"
      },
      "source": [
        "### **2 - Identify fraudulent patterns**"
      ]
    },
    {
      "cell_type": "code",
      "metadata": {
        "id": "zc3SmYYbSwXo",
        "colab_type": "code",
        "colab": {}
      },
      "source": [
        "# Load sts.csv\n",
        "df_2 = pd.read_csv('/content/drive/My Drive/Data analyst challenge/sts.csv')"
      ],
      "execution_count": 0,
      "outputs": []
    },
    {
      "cell_type": "code",
      "metadata": {
        "id": "SNjgnXIVURKp",
        "colab_type": "code",
        "outputId": "ddbfa8cb-05e2-4ab6-df83-bb3253d25b28",
        "colab": {
          "base_uri": "https://localhost:8080/",
          "height": 407
        }
      },
      "source": [
        "df_2 "
      ],
      "execution_count": 15,
      "outputs": [
        {
          "output_type": "execute_result",
          "data": {
            "text/html": [
              "<div>\n",
              "<style scoped>\n",
              "    .dataframe tbody tr th:only-of-type {\n",
              "        vertical-align: middle;\n",
              "    }\n",
              "\n",
              "    .dataframe tbody tr th {\n",
              "        vertical-align: top;\n",
              "    }\n",
              "\n",
              "    .dataframe thead th {\n",
              "        text-align: right;\n",
              "    }\n",
              "</style>\n",
              "<table border=\"1\" class=\"dataframe\">\n",
              "  <thead>\n",
              "    <tr style=\"text-align: right;\">\n",
              "      <th></th>\n",
              "      <th>state</th>\n",
              "      <th>sts</th>\n",
              "    </tr>\n",
              "  </thead>\n",
              "  <tbody>\n",
              "    <tr>\n",
              "      <th>0</th>\n",
              "      <td>{\"n\":\"1\"}</td>\n",
              "      <td>{\"m\":{\"com.utorrent.client.pro\":{\"m\":{\"d30\":{\"...</td>\n",
              "    </tr>\n",
              "    <tr>\n",
              "      <th>1</th>\n",
              "      <td>{\"n\":\"1\"}</td>\n",
              "      <td>{\"m\":{\"com.tetherstudios.solitaire.klondike\":{...</td>\n",
              "    </tr>\n",
              "    <tr>\n",
              "      <th>2</th>\n",
              "      <td>{\"n\":\"0\"}</td>\n",
              "      <td>{\"m\":{\"com.ticketmaster.mobile.android.na\":{\"m...</td>\n",
              "    </tr>\n",
              "    <tr>\n",
              "      <th>3</th>\n",
              "      <td>{\"n\":\"0\"}</td>\n",
              "      <td>{\"m\":{\"com.ticketmaster.mobile.android.na\":{\"m...</td>\n",
              "    </tr>\n",
              "    <tr>\n",
              "      <th>4</th>\n",
              "      <td>{\"n\":\"1\"}</td>\n",
              "      <td>{\"m\":{\"flipboard.boxer.app\":{\"m\":{\"d30\":{\"n\":\"...</td>\n",
              "    </tr>\n",
              "    <tr>\n",
              "      <th>...</th>\n",
              "      <td>...</td>\n",
              "      <td>...</td>\n",
              "    </tr>\n",
              "    <tr>\n",
              "      <th>6086</th>\n",
              "      <td>{\"n\":\"1\"}</td>\n",
              "      <td>{\"m\":{\"com.trustonic.tuiservice\":{\"m\":{\"cat\":{...</td>\n",
              "    </tr>\n",
              "    <tr>\n",
              "      <th>6087</th>\n",
              "      <td>{\"n\":\"1\"}</td>\n",
              "      <td>{\"m\":{\"com.barclays.apps.pingit\":{\"m\":{\"cat\":{...</td>\n",
              "    </tr>\n",
              "    <tr>\n",
              "      <th>6088</th>\n",
              "      <td>{\"n\":\"1\"}</td>\n",
              "      <td>{\"m\":{\"com.fungames.sniper3d\":{\"m\":{\"cat\":{\"s\"...</td>\n",
              "    </tr>\n",
              "    <tr>\n",
              "      <th>6089</th>\n",
              "      <td>{\"n\":\"1\"}</td>\n",
              "      <td>{\"m\":{\"com.fungames.sniper3d\":{\"m\":{\"d30\":{\"n\"...</td>\n",
              "    </tr>\n",
              "    <tr>\n",
              "      <th>6090</th>\n",
              "      <td>{\"n\":\"1\"}</td>\n",
              "      <td>{\"m\":{\"com.qrcodereaderapp\":{\"m\":{\"d30\":{\"n\":\"...</td>\n",
              "    </tr>\n",
              "  </tbody>\n",
              "</table>\n",
              "<p>6091 rows × 2 columns</p>\n",
              "</div>"
            ],
            "text/plain": [
              "          state                                                sts\n",
              "0     {\"n\":\"1\"}  {\"m\":{\"com.utorrent.client.pro\":{\"m\":{\"d30\":{\"...\n",
              "1     {\"n\":\"1\"}  {\"m\":{\"com.tetherstudios.solitaire.klondike\":{...\n",
              "2     {\"n\":\"0\"}  {\"m\":{\"com.ticketmaster.mobile.android.na\":{\"m...\n",
              "3     {\"n\":\"0\"}  {\"m\":{\"com.ticketmaster.mobile.android.na\":{\"m...\n",
              "4     {\"n\":\"1\"}  {\"m\":{\"flipboard.boxer.app\":{\"m\":{\"d30\":{\"n\":\"...\n",
              "...         ...                                                ...\n",
              "6086  {\"n\":\"1\"}  {\"m\":{\"com.trustonic.tuiservice\":{\"m\":{\"cat\":{...\n",
              "6087  {\"n\":\"1\"}  {\"m\":{\"com.barclays.apps.pingit\":{\"m\":{\"cat\":{...\n",
              "6088  {\"n\":\"1\"}  {\"m\":{\"com.fungames.sniper3d\":{\"m\":{\"cat\":{\"s\"...\n",
              "6089  {\"n\":\"1\"}  {\"m\":{\"com.fungames.sniper3d\":{\"m\":{\"d30\":{\"n\"...\n",
              "6090  {\"n\":\"1\"}  {\"m\":{\"com.qrcodereaderapp\":{\"m\":{\"d30\":{\"n\":\"...\n",
              "\n",
              "[6091 rows x 2 columns]"
            ]
          },
          "metadata": {
            "tags": []
          },
          "execution_count": 15
        }
      ]
    },
    {
      "cell_type": "code",
      "metadata": {
        "id": "kuB3ERaxYBeW",
        "colab_type": "code",
        "colab": {}
      },
      "source": [
        "# Remove characters on column state\n",
        "df_2['state'] = df_2['state'].replace(['{', '\"', ':', 'n', '}'], ' ', regex=True)"
      ],
      "execution_count": 0,
      "outputs": []
    },
    {
      "cell_type": "code",
      "metadata": {
        "id": "Y8ZWA0ALYnjT",
        "colab_type": "code",
        "outputId": "c1db4d5a-5b86-4d7d-b5e4-55a11ea3027e",
        "colab": {
          "base_uri": "https://localhost:8080/",
          "height": 86
        }
      },
      "source": [
        "# Distributions of gift card state\n",
        "df_2.state.value_counts()"
      ],
      "execution_count": 17,
      "outputs": [
        {
          "output_type": "execute_result",
          "data": {
            "text/plain": [
              "      1      5631\n",
              "      2       245\n",
              "      0       215\n",
              "Name: state, dtype: int64"
            ]
          },
          "metadata": {
            "tags": []
          },
          "execution_count": 17
        }
      ]
    },
    {
      "cell_type": "markdown",
      "metadata": {
        "id": "akLWDC-FuyQ0",
        "colab_type": "text"
      },
      "source": [
        "### 245 CREDIT CARDS REJECTED\n"
      ]
    },
    {
      "cell_type": "code",
      "metadata": {
        "id": "-OvUXMd9Yp2Q",
        "colab_type": "code",
        "outputId": "415283f7-27a0-4bff-cabf-095ceea0cdef",
        "colab": {
          "base_uri": "https://localhost:8080/",
          "height": 407
        }
      },
      "source": [
        "# Filter rejected gift card \n",
        "df_reject = df_2.state.str.contains('2')\n",
        "df_2[df_reject]"
      ],
      "execution_count": 18,
      "outputs": [
        {
          "output_type": "execute_result",
          "data": {
            "text/html": [
              "<div>\n",
              "<style scoped>\n",
              "    .dataframe tbody tr th:only-of-type {\n",
              "        vertical-align: middle;\n",
              "    }\n",
              "\n",
              "    .dataframe tbody tr th {\n",
              "        vertical-align: top;\n",
              "    }\n",
              "\n",
              "    .dataframe thead th {\n",
              "        text-align: right;\n",
              "    }\n",
              "</style>\n",
              "<table border=\"1\" class=\"dataframe\">\n",
              "  <thead>\n",
              "    <tr style=\"text-align: right;\">\n",
              "      <th></th>\n",
              "      <th>state</th>\n",
              "      <th>sts</th>\n",
              "    </tr>\n",
              "  </thead>\n",
              "  <tbody>\n",
              "    <tr>\n",
              "      <th>139</th>\n",
              "      <td>2</td>\n",
              "      <td>{\"m\":{\"com.epicactiononline.ffxv.ane\":{\"m\":{\"d...</td>\n",
              "    </tr>\n",
              "    <tr>\n",
              "      <th>180</th>\n",
              "      <td>2</td>\n",
              "      <td>{\"m\":{\"com.epicactiononline.ffxv.ane\":{\"m\":{\"d...</td>\n",
              "    </tr>\n",
              "    <tr>\n",
              "      <th>276</th>\n",
              "      <td>2</td>\n",
              "      <td>{\"m\":{\"com.epicactiononline.ffxv.ane\":{\"m\":{\"d...</td>\n",
              "    </tr>\n",
              "    <tr>\n",
              "      <th>286</th>\n",
              "      <td>2</td>\n",
              "      <td>{\"m\":{\"com.scopely.whiplash\":{\"m\":{\"cat\":{\"s\":...</td>\n",
              "    </tr>\n",
              "    <tr>\n",
              "      <th>340</th>\n",
              "      <td>2</td>\n",
              "      <td>{\"m\":{\"com.epicactiononline.ffxv.ane\":{\"m\":{\"d...</td>\n",
              "    </tr>\n",
              "    <tr>\n",
              "      <th>...</th>\n",
              "      <td>...</td>\n",
              "      <td>...</td>\n",
              "    </tr>\n",
              "    <tr>\n",
              "      <th>5787</th>\n",
              "      <td>2</td>\n",
              "      <td>{\"m\":{\"com.epicactiononline.ffxv.ane\":{\"m\":{\"d...</td>\n",
              "    </tr>\n",
              "    <tr>\n",
              "      <th>5805</th>\n",
              "      <td>2</td>\n",
              "      <td>{\"m\":{\"com.ea.game.starwarscapital_row\":{\"m\":{...</td>\n",
              "    </tr>\n",
              "    <tr>\n",
              "      <th>5944</th>\n",
              "      <td>2</td>\n",
              "      <td>{\"m\":{\"com.epicactiononline.ffxv.ane\":{\"m\":{\"d...</td>\n",
              "    </tr>\n",
              "    <tr>\n",
              "      <th>5966</th>\n",
              "      <td>2</td>\n",
              "      <td>{\"m\":{\"com.epicactiononline.ffxv.ane\":{\"m\":{\"d...</td>\n",
              "    </tr>\n",
              "    <tr>\n",
              "      <th>5985</th>\n",
              "      <td>2</td>\n",
              "      <td>{\"m\":{\"com.epicactiononline.ffxv.ane\":{\"m\":{\"d...</td>\n",
              "    </tr>\n",
              "  </tbody>\n",
              "</table>\n",
              "<p>245 rows × 2 columns</p>\n",
              "</div>"
            ],
            "text/plain": [
              "          state                                                sts\n",
              "139         2    {\"m\":{\"com.epicactiononline.ffxv.ane\":{\"m\":{\"d...\n",
              "180         2    {\"m\":{\"com.epicactiononline.ffxv.ane\":{\"m\":{\"d...\n",
              "276         2    {\"m\":{\"com.epicactiononline.ffxv.ane\":{\"m\":{\"d...\n",
              "286         2    {\"m\":{\"com.scopely.whiplash\":{\"m\":{\"cat\":{\"s\":...\n",
              "340         2    {\"m\":{\"com.epicactiononline.ffxv.ane\":{\"m\":{\"d...\n",
              "...         ...                                                ...\n",
              "5787        2    {\"m\":{\"com.epicactiononline.ffxv.ane\":{\"m\":{\"d...\n",
              "5805        2    {\"m\":{\"com.ea.game.starwarscapital_row\":{\"m\":{...\n",
              "5944        2    {\"m\":{\"com.epicactiononline.ffxv.ane\":{\"m\":{\"d...\n",
              "5966        2    {\"m\":{\"com.epicactiononline.ffxv.ane\":{\"m\":{\"d...\n",
              "5985        2    {\"m\":{\"com.epicactiononline.ffxv.ane\":{\"m\":{\"d...\n",
              "\n",
              "[245 rows x 2 columns]"
            ]
          },
          "metadata": {
            "tags": []
          },
          "execution_count": 18
        }
      ]
    },
    {
      "cell_type": "code",
      "metadata": {
        "id": "oGXzZUW4xGW8",
        "colab_type": "code",
        "outputId": "8ef7ea74-1b69-4251-e8ba-85e4aac97ca9",
        "colab": {
          "base_uri": "https://localhost:8080/",
          "height": 69
        }
      },
      "source": [
        "df_2.dtypes"
      ],
      "execution_count": 19,
      "outputs": [
        {
          "output_type": "execute_result",
          "data": {
            "text/plain": [
              "state    object\n",
              "sts      object\n",
              "dtype: object"
            ]
          },
          "metadata": {
            "tags": []
          },
          "execution_count": 19
        }
      ]
    },
    {
      "cell_type": "markdown",
      "metadata": {
        "id": "5mjoHEH7xQEj",
        "colab_type": "text"
      },
      "source": [
        "The column sts on df_2 has a string representation of a nested dictionary but we need to unfold it.  "
      ]
    },
    {
      "cell_type": "code",
      "metadata": {
        "id": "YsldNvsEMrmG",
        "colab_type": "code",
        "outputId": "9a6d112a-483e-4187-a30e-fe9cf029a00b",
        "colab": {
          "base_uri": "https://localhost:8080/",
          "height": 35
        }
      },
      "source": [
        "s = list(df_2[df_reject].sts)[0]\n",
        "# Convert data type from string to dict\n",
        "mydict = literal_eval(s)\n",
        "type(mydict)"
      ],
      "execution_count": 20,
      "outputs": [
        {
          "output_type": "execute_result",
          "data": {
            "text/plain": [
              "dict"
            ]
          },
          "metadata": {
            "tags": []
          },
          "execution_count": 20
        }
      ]
    },
    {
      "cell_type": "code",
      "metadata": {
        "id": "IxrlNCNPVh7a",
        "colab_type": "code",
        "outputId": "ade58240-f28b-4171-a9a8-517af9de6960",
        "colab": {
          "base_uri": "https://localhost:8080/",
          "height": 1000
        }
      },
      "source": [
        "# View of the nested dict \n",
        "mydict"
      ],
      "execution_count": 21,
      "outputs": [
        {
          "output_type": "execute_result",
          "data": {
            "text/plain": [
              "{'m': {'com.easilydo.mail': {'m': {'cat': {'s': 'notgame'},\n",
              "    'fp': {'n': '1546339585008'},\n",
              "    'stamp': {'n': '1548073493258'}}},\n",
              "  'com.enflick.android.textnow': {'m': {'cat': {'s': 'notgame'},\n",
              "    'fp': {'n': '1546337318989'},\n",
              "    'stamp': {'n': '1548073493258'}}},\n",
              "  'com.epicactiononline.ffxv.ane': {'m': {'cat': {'s': 'strategy'},\n",
              "    'd1': {'n': '5009550'},\n",
              "    'd30': {'n': '60601463'},\n",
              "    'd7': {'n': '60601463'},\n",
              "    'fp': {'n': '1548075016570'},\n",
              "    'lc': {'n': '46'},\n",
              "    'lu': {'n': '1548509034183'},\n",
              "    'stamp': {'n': '1548540127985'}}},\n",
              "  'com.jellybtn.cashkingmobile': {'m': {'cat': {'s': 'casual'},\n",
              "    'd1': {'n': '2656549'},\n",
              "    'd30': {'n': '30312941'},\n",
              "    'd7': {'n': '30312941'},\n",
              "    'fp': {'n': '1548076453185'},\n",
              "    'lc': {'n': '12'},\n",
              "    'lu': {'n': '1548509075515'},\n",
              "    'stamp': {'n': '1548540127985'}}},\n",
              "  'com.microsoft.office.outlook': {'m': {'cat': {'s': 'notgame'},\n",
              "    'd1': {'n': '51545'},\n",
              "    'd30': {'n': '641933'},\n",
              "    'd7': {'n': '641933'},\n",
              "    'fp': {'n': '1546339627991'},\n",
              "    'lu': {'n': '1548365078511'},\n",
              "    'stamp': {'n': '1548540132415'}}},\n",
              "  'com.mistplay.mistplay': {'m': {'cat': {'s': 'notgame'},\n",
              "    'd1': {'n': '45001'},\n",
              "    'd30': {'n': '4321194'},\n",
              "    'd7': {'n': '4321194'},\n",
              "    'fp': {'n': '1548072304235'},\n",
              "    'lc': {'n': '5'},\n",
              "    'lu': {'n': '1548540127323'},\n",
              "    'stamp': {'n': '1548540127985'}}},\n",
              "  'com.mobilewaronline.wwr': {'m': {'cat': {'s': 'strategy'},\n",
              "    'd1': {'n': '2653875'},\n",
              "    'd30': {'n': '30149210'},\n",
              "    'd7': {'n': '30149210'},\n",
              "    'fp': {'n': '1548074712734'},\n",
              "    'lc': {'n': '24'},\n",
              "    'lu': {'n': '1548509203255'},\n",
              "    'stamp': {'n': '1548540127985'}}},\n",
              "  'com.playstudios.popslots': {'m': {'cat': {'s': 'casino'},\n",
              "    'd1': {'n': '2843502'},\n",
              "    'd30': {'n': '32366669'},\n",
              "    'd7': {'n': '32366669'},\n",
              "    'fp': {'n': '1548077077044'},\n",
              "    'lc': {'n': '12'},\n",
              "    'lu': {'n': '1548509119356'},\n",
              "    'stamp': {'n': '1548540127985'}}},\n",
              "  'com.privateinternetaccess.android': {'m': {'cat': {'s': 'notgame'},\n",
              "    'fp': {'n': '1546334839364'},\n",
              "    'stamp': {'n': '1548073493258'}}},\n",
              "  'com.scopely.startrek': {'m': {'cat': {'s': 'strategy'},\n",
              "    'd1': {'n': '5388403'},\n",
              "    'd30': {'n': '69612551'},\n",
              "    'd7': {'n': '69612551'},\n",
              "    'fp': {'n': '1548073636226'},\n",
              "    'lc': {'n': '34'},\n",
              "    'lu': {'n': '1548509161922'},\n",
              "    'stamp': {'n': '1548540127985'}}},\n",
              "  'com.scopely.yux': {'m': {'cat': {'s': 'board'},\n",
              "    'd1': {'n': '100534482'},\n",
              "    'd30': {'n': '195049040'},\n",
              "    'd7': {'n': '195049040'},\n",
              "    'fp': {'n': '1548074119455'},\n",
              "    'lc': {'n': '12'},\n",
              "    'lu': {'n': '1548540120593'},\n",
              "    'stamp': {'n': '1548540127985'}}},\n",
              "  'com.socialnmobile.dictapps.notepad.color.note': {'m': {'cat': {'s': 'notgame'},\n",
              "    'fp': {'n': '1546339289731'},\n",
              "    'stamp': {'n': '1548073493258'}}},\n",
              "  'com.svox.pico': {'m': {'cat': {'s': 'notgame'},\n",
              "    'fp': {'n': '1540382413000'},\n",
              "    'stamp': {'n': '1548073493258'}}},\n",
              "  'com.zynga.livepoker': {'m': {'cat': {'s': 'casino'},\n",
              "    'd1': {'n': '2603689'},\n",
              "    'd30': {'n': '33741501'},\n",
              "    'd7': {'n': '33741501'},\n",
              "    'fp': {'n': '1548075481572'},\n",
              "    'lc': {'n': '22'},\n",
              "    'lu': {'n': '1548508989499'},\n",
              "    'stamp': {'n': '1548540127985'}}},\n",
              "  'tw.mobileapp.qrcode.banner': {'m': {'cat': {'s': 'notgame'},\n",
              "    'fp': {'n': '1546339305303'},\n",
              "    'stamp': {'n': '1548073493258'}}}}}"
            ]
          },
          "metadata": {
            "tags": []
          },
          "execution_count": 21
        }
      ]
    },
    {
      "cell_type": "code",
      "metadata": {
        "id": "kjhr__W-Y44v",
        "colab_type": "code",
        "colab": {
          "base_uri": "https://localhost:8080/",
          "height": 127
        },
        "outputId": "2a0e070f-200f-41e8-abde-ffe25c6eec94"
      },
      "source": [
        "# Create dataframe from the dictionary\n",
        "df_mistplay = pd.io.json.json_normalize(mydict)\n",
        "df_mistplay"
      ],
      "execution_count": 22,
      "outputs": [
        {
          "output_type": "execute_result",
          "data": {
            "text/html": [
              "<div>\n",
              "<style scoped>\n",
              "    .dataframe tbody tr th:only-of-type {\n",
              "        vertical-align: middle;\n",
              "    }\n",
              "\n",
              "    .dataframe tbody tr th {\n",
              "        vertical-align: top;\n",
              "    }\n",
              "\n",
              "    .dataframe thead th {\n",
              "        text-align: right;\n",
              "    }\n",
              "</style>\n",
              "<table border=\"1\" class=\"dataframe\">\n",
              "  <thead>\n",
              "    <tr style=\"text-align: right;\">\n",
              "      <th></th>\n",
              "      <th>m.com.epicactiononline.ffxv.ane.m.d30.n</th>\n",
              "      <th>m.com.epicactiononline.ffxv.ane.m.d7.n</th>\n",
              "      <th>m.com.epicactiononline.ffxv.ane.m.cat.s</th>\n",
              "      <th>m.com.epicactiononline.ffxv.ane.m.lc.n</th>\n",
              "      <th>m.com.epicactiononline.ffxv.ane.m.stamp.n</th>\n",
              "      <th>m.com.epicactiononline.ffxv.ane.m.lu.n</th>\n",
              "      <th>m.com.epicactiononline.ffxv.ane.m.fp.n</th>\n",
              "      <th>m.com.epicactiononline.ffxv.ane.m.d1.n</th>\n",
              "      <th>m.com.jellybtn.cashkingmobile.m.d30.n</th>\n",
              "      <th>m.com.jellybtn.cashkingmobile.m.d7.n</th>\n",
              "      <th>m.com.jellybtn.cashkingmobile.m.cat.s</th>\n",
              "      <th>m.com.jellybtn.cashkingmobile.m.lc.n</th>\n",
              "      <th>m.com.jellybtn.cashkingmobile.m.stamp.n</th>\n",
              "      <th>m.com.jellybtn.cashkingmobile.m.lu.n</th>\n",
              "      <th>m.com.jellybtn.cashkingmobile.m.fp.n</th>\n",
              "      <th>m.com.jellybtn.cashkingmobile.m.d1.n</th>\n",
              "      <th>m.com.playstudios.popslots.m.d30.n</th>\n",
              "      <th>m.com.playstudios.popslots.m.d7.n</th>\n",
              "      <th>m.com.playstudios.popslots.m.cat.s</th>\n",
              "      <th>m.com.playstudios.popslots.m.lc.n</th>\n",
              "      <th>m.com.playstudios.popslots.m.stamp.n</th>\n",
              "      <th>m.com.playstudios.popslots.m.lu.n</th>\n",
              "      <th>m.com.playstudios.popslots.m.fp.n</th>\n",
              "      <th>m.com.playstudios.popslots.m.d1.n</th>\n",
              "      <th>m.com.privateinternetaccess.android.m.cat.s</th>\n",
              "      <th>m.com.privateinternetaccess.android.m.stamp.n</th>\n",
              "      <th>m.com.privateinternetaccess.android.m.fp.n</th>\n",
              "      <th>m.com.scopely.yux.m.d30.n</th>\n",
              "      <th>m.com.scopely.yux.m.d7.n</th>\n",
              "      <th>m.com.scopely.yux.m.cat.s</th>\n",
              "      <th>m.com.scopely.yux.m.lc.n</th>\n",
              "      <th>m.com.scopely.yux.m.stamp.n</th>\n",
              "      <th>m.com.scopely.yux.m.lu.n</th>\n",
              "      <th>m.com.scopely.yux.m.fp.n</th>\n",
              "      <th>m.com.scopely.yux.m.d1.n</th>\n",
              "      <th>m.com.enflick.android.textnow.m.cat.s</th>\n",
              "      <th>m.com.enflick.android.textnow.m.stamp.n</th>\n",
              "      <th>m.com.enflick.android.textnow.m.fp.n</th>\n",
              "      <th>m.com.socialnmobile.dictapps.notepad.color.note.m.cat.s</th>\n",
              "      <th>m.com.socialnmobile.dictapps.notepad.color.note.m.stamp.n</th>\n",
              "      <th>...</th>\n",
              "      <th>m.com.scopely.startrek.m.lu.n</th>\n",
              "      <th>m.com.scopely.startrek.m.fp.n</th>\n",
              "      <th>m.com.scopely.startrek.m.d1.n</th>\n",
              "      <th>m.com.svox.pico.m.cat.s</th>\n",
              "      <th>m.com.svox.pico.m.stamp.n</th>\n",
              "      <th>m.com.svox.pico.m.fp.n</th>\n",
              "      <th>m.com.easilydo.mail.m.cat.s</th>\n",
              "      <th>m.com.easilydo.mail.m.stamp.n</th>\n",
              "      <th>m.com.easilydo.mail.m.fp.n</th>\n",
              "      <th>m.com.microsoft.office.outlook.m.d30.n</th>\n",
              "      <th>m.com.microsoft.office.outlook.m.d7.n</th>\n",
              "      <th>m.com.microsoft.office.outlook.m.cat.s</th>\n",
              "      <th>m.com.microsoft.office.outlook.m.stamp.n</th>\n",
              "      <th>m.com.microsoft.office.outlook.m.lu.n</th>\n",
              "      <th>m.com.microsoft.office.outlook.m.fp.n</th>\n",
              "      <th>m.com.microsoft.office.outlook.m.d1.n</th>\n",
              "      <th>m.com.zynga.livepoker.m.d30.n</th>\n",
              "      <th>m.com.zynga.livepoker.m.d7.n</th>\n",
              "      <th>m.com.zynga.livepoker.m.cat.s</th>\n",
              "      <th>m.com.zynga.livepoker.m.lc.n</th>\n",
              "      <th>m.com.zynga.livepoker.m.stamp.n</th>\n",
              "      <th>m.com.zynga.livepoker.m.lu.n</th>\n",
              "      <th>m.com.zynga.livepoker.m.fp.n</th>\n",
              "      <th>m.com.zynga.livepoker.m.d1.n</th>\n",
              "      <th>m.com.mobilewaronline.wwr.m.d30.n</th>\n",
              "      <th>m.com.mobilewaronline.wwr.m.d7.n</th>\n",
              "      <th>m.com.mobilewaronline.wwr.m.cat.s</th>\n",
              "      <th>m.com.mobilewaronline.wwr.m.lc.n</th>\n",
              "      <th>m.com.mobilewaronline.wwr.m.stamp.n</th>\n",
              "      <th>m.com.mobilewaronline.wwr.m.lu.n</th>\n",
              "      <th>m.com.mobilewaronline.wwr.m.fp.n</th>\n",
              "      <th>m.com.mobilewaronline.wwr.m.d1.n</th>\n",
              "      <th>m.com.mistplay.mistplay.m.d30.n</th>\n",
              "      <th>m.com.mistplay.mistplay.m.d7.n</th>\n",
              "      <th>m.com.mistplay.mistplay.m.cat.s</th>\n",
              "      <th>m.com.mistplay.mistplay.m.lc.n</th>\n",
              "      <th>m.com.mistplay.mistplay.m.stamp.n</th>\n",
              "      <th>m.com.mistplay.mistplay.m.lu.n</th>\n",
              "      <th>m.com.mistplay.mistplay.m.fp.n</th>\n",
              "      <th>m.com.mistplay.mistplay.m.d1.n</th>\n",
              "    </tr>\n",
              "  </thead>\n",
              "  <tbody>\n",
              "    <tr>\n",
              "      <th>0</th>\n",
              "      <td>60601463</td>\n",
              "      <td>60601463</td>\n",
              "      <td>strategy</td>\n",
              "      <td>46</td>\n",
              "      <td>1548540127985</td>\n",
              "      <td>1548509034183</td>\n",
              "      <td>1548075016570</td>\n",
              "      <td>5009550</td>\n",
              "      <td>30312941</td>\n",
              "      <td>30312941</td>\n",
              "      <td>casual</td>\n",
              "      <td>12</td>\n",
              "      <td>1548540127985</td>\n",
              "      <td>1548509075515</td>\n",
              "      <td>1548076453185</td>\n",
              "      <td>2656549</td>\n",
              "      <td>32366669</td>\n",
              "      <td>32366669</td>\n",
              "      <td>casino</td>\n",
              "      <td>12</td>\n",
              "      <td>1548540127985</td>\n",
              "      <td>1548509119356</td>\n",
              "      <td>1548077077044</td>\n",
              "      <td>2843502</td>\n",
              "      <td>notgame</td>\n",
              "      <td>1548073493258</td>\n",
              "      <td>1546334839364</td>\n",
              "      <td>195049040</td>\n",
              "      <td>195049040</td>\n",
              "      <td>board</td>\n",
              "      <td>12</td>\n",
              "      <td>1548540127985</td>\n",
              "      <td>1548540120593</td>\n",
              "      <td>1548074119455</td>\n",
              "      <td>100534482</td>\n",
              "      <td>notgame</td>\n",
              "      <td>1548073493258</td>\n",
              "      <td>1546337318989</td>\n",
              "      <td>notgame</td>\n",
              "      <td>1548073493258</td>\n",
              "      <td>...</td>\n",
              "      <td>1548509161922</td>\n",
              "      <td>1548073636226</td>\n",
              "      <td>5388403</td>\n",
              "      <td>notgame</td>\n",
              "      <td>1548073493258</td>\n",
              "      <td>1540382413000</td>\n",
              "      <td>notgame</td>\n",
              "      <td>1548073493258</td>\n",
              "      <td>1546339585008</td>\n",
              "      <td>641933</td>\n",
              "      <td>641933</td>\n",
              "      <td>notgame</td>\n",
              "      <td>1548540132415</td>\n",
              "      <td>1548365078511</td>\n",
              "      <td>1546339627991</td>\n",
              "      <td>51545</td>\n",
              "      <td>33741501</td>\n",
              "      <td>33741501</td>\n",
              "      <td>casino</td>\n",
              "      <td>22</td>\n",
              "      <td>1548540127985</td>\n",
              "      <td>1548508989499</td>\n",
              "      <td>1548075481572</td>\n",
              "      <td>2603689</td>\n",
              "      <td>30149210</td>\n",
              "      <td>30149210</td>\n",
              "      <td>strategy</td>\n",
              "      <td>24</td>\n",
              "      <td>1548540127985</td>\n",
              "      <td>1548509203255</td>\n",
              "      <td>1548074712734</td>\n",
              "      <td>2653875</td>\n",
              "      <td>4321194</td>\n",
              "      <td>4321194</td>\n",
              "      <td>notgame</td>\n",
              "      <td>5</td>\n",
              "      <td>1548540127985</td>\n",
              "      <td>1548540127323</td>\n",
              "      <td>1548072304235</td>\n",
              "      <td>45001</td>\n",
              "    </tr>\n",
              "  </tbody>\n",
              "</table>\n",
              "<p>1 rows × 89 columns</p>\n",
              "</div>"
            ],
            "text/plain": [
              "  m.com.epicactiononline.ffxv.ane.m.d30.n  ... m.com.mistplay.mistplay.m.d1.n\n",
              "0                                60601463  ...                          45001\n",
              "\n",
              "[1 rows x 89 columns]"
            ]
          },
          "metadata": {
            "tags": []
          },
          "execution_count": 22
        }
      ]
    },
    {
      "cell_type": "code",
      "metadata": {
        "id": "faM23947uCqH",
        "colab_type": "code",
        "colab": {}
      },
      "source": [
        "# Columns to keep \n",
        "cols_to_keep = ['m.com.mistplay.mistplay.m.lc.n',\n",
        "                'm.com.mistplay.mistplay.m.lu.n',\n",
        "                'm.com.mistplay.mistplay.m.d1.n',\n",
        "                'm.com.mistplay.mistplay.m.d30.n',\n",
        "                'm.com.mistplay.mistplay.m.cat.s',\n",
        "                'm.com.mistplay.mistplay.m.stamp.n',\n",
        "                'm.com.mistplay.mistplay.m.fp.n']\n"
      ],
      "execution_count": 0,
      "outputs": []
    },
    {
      "cell_type": "code",
      "metadata": {
        "id": "m2551TLXu1r0",
        "colab_type": "code",
        "outputId": "874cbfc5-1460-4814-a6e9-1c8b0c0c9881",
        "colab": {
          "base_uri": "https://localhost:8080/",
          "height": 98
        }
      },
      "source": [
        "# First row of our new dataframe (mistplay contents) \n",
        "df_mistplay.drop(df_mistplay.columns.difference(cols_to_keep), axis=1)"
      ],
      "execution_count": 24,
      "outputs": [
        {
          "output_type": "execute_result",
          "data": {
            "text/html": [
              "<div>\n",
              "<style scoped>\n",
              "    .dataframe tbody tr th:only-of-type {\n",
              "        vertical-align: middle;\n",
              "    }\n",
              "\n",
              "    .dataframe tbody tr th {\n",
              "        vertical-align: top;\n",
              "    }\n",
              "\n",
              "    .dataframe thead th {\n",
              "        text-align: right;\n",
              "    }\n",
              "</style>\n",
              "<table border=\"1\" class=\"dataframe\">\n",
              "  <thead>\n",
              "    <tr style=\"text-align: right;\">\n",
              "      <th></th>\n",
              "      <th>m.com.mistplay.mistplay.m.d30.n</th>\n",
              "      <th>m.com.mistplay.mistplay.m.cat.s</th>\n",
              "      <th>m.com.mistplay.mistplay.m.lc.n</th>\n",
              "      <th>m.com.mistplay.mistplay.m.stamp.n</th>\n",
              "      <th>m.com.mistplay.mistplay.m.lu.n</th>\n",
              "      <th>m.com.mistplay.mistplay.m.fp.n</th>\n",
              "      <th>m.com.mistplay.mistplay.m.d1.n</th>\n",
              "    </tr>\n",
              "  </thead>\n",
              "  <tbody>\n",
              "    <tr>\n",
              "      <th>0</th>\n",
              "      <td>4321194</td>\n",
              "      <td>notgame</td>\n",
              "      <td>5</td>\n",
              "      <td>1548540127985</td>\n",
              "      <td>1548540127323</td>\n",
              "      <td>1548072304235</td>\n",
              "      <td>45001</td>\n",
              "    </tr>\n",
              "  </tbody>\n",
              "</table>\n",
              "</div>"
            ],
            "text/plain": [
              "  m.com.mistplay.mistplay.m.d30.n  ... m.com.mistplay.mistplay.m.d1.n\n",
              "0                         4321194  ...                          45001\n",
              "\n",
              "[1 rows x 7 columns]"
            ]
          },
          "metadata": {
            "tags": []
          },
          "execution_count": 24
        }
      ]
    },
    {
      "cell_type": "markdown",
      "metadata": {
        "id": "McyVzp-X2utc",
        "colab_type": "text"
      },
      "source": [
        "There is definitely a better way to flatten a list of deep nested dictionary but by unfolding one row only for observation, I was able to better understand the informations that the dataset hold. \n",
        "To look for a faudrulent patterns it will be necessary to verify occurencies in the values of \"com.mistplay.mistplay\"."
      ]
    }
  ]
}