{
  "nbformat": 4,
  "nbformat_minor": 0,
  "metadata": {
    "colab": {
      "name": "Mistplay-Challenge.ipynb",
      "provenance": [],
      "collapsed_sections": [],
      "include_colab_link": true
    },
    "kernelspec": {
      "name": "python3",
      "display_name": "Python 3"
    }
  },
  "cells": [
    {
      "cell_type": "markdown",
      "metadata": {
        "id": "view-in-github",
        "colab_type": "text"
      },
      "source": [
        "<a href=\"https://colab.research.google.com/github/mtfaye/data-analyst-challenge/blob/master/Mistplay_Challenge.ipynb\" target=\"_parent\"><img src=\"https://colab.research.google.com/assets/colab-badge.svg\" alt=\"Open In Colab\"/></a>"
      ]
    },
    {
      "cell_type": "markdown",
      "metadata": {
        "id": "RytAwbUF48yc",
        "colab_type": "text"
      },
      "source": [
        "## Mistplay - Data Analyst Challenge\n"
      ]
    },
    {
      "cell_type": "code",
      "metadata": {
        "id": "0exlnHAW6fnG",
        "colab_type": "code",
        "colab": {}
      },
      "source": [
        "import json\n",
        "import pandas as pd "
      ],
      "execution_count": 0,
      "outputs": []
    },
    {
      "cell_type": "markdown",
      "metadata": {
        "id": "NpIbHjp85XSJ",
        "colab_type": "text"
      },
      "source": [
        "## 1 - Plot Difference in ltv, ttime, and tue across AB groups"
      ]
    },
    {
      "cell_type": "code",
      "metadata": {
        "id": "ml-vs2xi5mK9",
        "colab_type": "code",
        "outputId": "c1d4bc0b-68ae-4f96-cea4-5642eb639c8d",
        "colab": {
          "base_uri": "https://localhost:8080/",
          "height": 55
        }
      },
      "source": [
        "from google.colab import drive\n",
        "drive.mount('/content/drive')"
      ],
      "execution_count": 90,
      "outputs": [
        {
          "output_type": "stream",
          "text": [
            "Drive already mounted at /content/drive; to attempt to forcibly remount, call drive.mount(\"/content/drive\", force_remount=True).\n"
          ],
          "name": "stdout"
        }
      ]
    },
    {
      "cell_type": "code",
      "metadata": {
        "id": "jS0Rcv_x6Tfv",
        "colab_type": "code",
        "colab": {}
      },
      "source": [
        "df = pd.read_csv('/content/drive/My Drive/Data analyst challenge/takeHome.csv')"
      ],
      "execution_count": 0,
      "outputs": []
    },
    {
      "cell_type": "code",
      "metadata": {
        "id": "UpWJSzCo7C_b",
        "colab_type": "code",
        "outputId": "03c3ae52-af1c-4824-d3ac-c8b24f98ff8a",
        "colab": {
          "base_uri": "https://localhost:8080/",
          "height": 407
        }
      },
      "source": [
        " # Quick overview of the dataset\n",
        "df"
      ],
      "execution_count": 92,
      "outputs": [
        {
          "output_type": "execute_result",
          "data": {
            "text/html": [
              "<div>\n",
              "<style scoped>\n",
              "    .dataframe tbody tr th:only-of-type {\n",
              "        vertical-align: middle;\n",
              "    }\n",
              "\n",
              "    .dataframe tbody tr th {\n",
              "        vertical-align: top;\n",
              "    }\n",
              "\n",
              "    .dataframe thead th {\n",
              "        text-align: right;\n",
              "    }\n",
              "</style>\n",
              "<table border=\"1\" class=\"dataframe\">\n",
              "  <thead>\n",
              "    <tr style=\"text-align: right;\">\n",
              "      <th></th>\n",
              "      <th>ltv</th>\n",
              "      <th>ttime</th>\n",
              "      <th>abt</th>\n",
              "      <th>tue</th>\n",
              "    </tr>\n",
              "  </thead>\n",
              "  <tbody>\n",
              "    <tr>\n",
              "      <th>0</th>\n",
              "      <td>{\"n\":\"250\"}</td>\n",
              "      <td>{\"n\":\"1077572\"}</td>\n",
              "      <td>{\"n\":\"31\"}</td>\n",
              "      <td>{\"n\":\"38\"}</td>\n",
              "    </tr>\n",
              "    <tr>\n",
              "      <th>1</th>\n",
              "      <td>{\"n\":\"49\"}</td>\n",
              "      <td>{\"n\":\"60028\"}</td>\n",
              "      <td>{\"n\":\"32\"}</td>\n",
              "      <td>{\"n\":\"15\"}</td>\n",
              "    </tr>\n",
              "    <tr>\n",
              "      <th>2</th>\n",
              "      <td>{\"n\":\"680\"}</td>\n",
              "      <td>{\"n\":\"2018285\"}</td>\n",
              "      <td>{\"n\":\"7\"}</td>\n",
              "      <td>{\"n\":\"46\"}</td>\n",
              "    </tr>\n",
              "    <tr>\n",
              "      <th>3</th>\n",
              "      <td>{\"n\":\"125\"}</td>\n",
              "      <td>{\"n\":\"98142\"}</td>\n",
              "      <td>{\"n\":\"11\"}</td>\n",
              "      <td>{\"n\":\"15\"}</td>\n",
              "    </tr>\n",
              "    <tr>\n",
              "      <th>4</th>\n",
              "      <td>{\"n\":\"450\"}</td>\n",
              "      <td>{\"n\":\"115692\"}</td>\n",
              "      <td>{\"n\":\"9\"}</td>\n",
              "      <td>{\"n\":\"15\"}</td>\n",
              "    </tr>\n",
              "    <tr>\n",
              "      <th>...</th>\n",
              "      <td>...</td>\n",
              "      <td>...</td>\n",
              "      <td>...</td>\n",
              "      <td>...</td>\n",
              "    </tr>\n",
              "    <tr>\n",
              "      <th>9994</th>\n",
              "      <td>{\"n\":\"250\"}</td>\n",
              "      <td>{\"n\":\"4002074\"}</td>\n",
              "      <td>{\"n\":\"23\"}</td>\n",
              "      <td>{\"n\":\"127\"}</td>\n",
              "    </tr>\n",
              "    <tr>\n",
              "      <th>9995</th>\n",
              "      <td>{\"n\":\"250\"}</td>\n",
              "      <td>{\"n\":\"2134787\"}</td>\n",
              "      <td>{\"n\":\"28\"}</td>\n",
              "      <td>{\"n\":\"53\"}</td>\n",
              "    </tr>\n",
              "    <tr>\n",
              "      <th>9996</th>\n",
              "      <td>{\"n\":\"150\"}</td>\n",
              "      <td>{\"n\":\"107426\"}</td>\n",
              "      <td>{\"n\":\"53\"}</td>\n",
              "      <td>{\"n\":\"15\"}</td>\n",
              "    </tr>\n",
              "    <tr>\n",
              "      <th>9997</th>\n",
              "      <td>{\"n\":\"72\"}</td>\n",
              "      <td>{\"n\":\"0\"}</td>\n",
              "      <td>{\"n\":\"26\"}</td>\n",
              "      <td>{\"n\":\"15\"}</td>\n",
              "    </tr>\n",
              "    <tr>\n",
              "      <th>9998</th>\n",
              "      <td>{\"n\":\"175\"}</td>\n",
              "      <td>{\"n\":\"381875\"}</td>\n",
              "      <td>{\"n\":\"3\"}</td>\n",
              "      <td>{\"n\":\"25\"}</td>\n",
              "    </tr>\n",
              "  </tbody>\n",
              "</table>\n",
              "<p>9999 rows × 4 columns</p>\n",
              "</div>"
            ],
            "text/plain": [
              "              ltv            ttime         abt          tue\n",
              "0     {\"n\":\"250\"}  {\"n\":\"1077572\"}  {\"n\":\"31\"}   {\"n\":\"38\"}\n",
              "1      {\"n\":\"49\"}    {\"n\":\"60028\"}  {\"n\":\"32\"}   {\"n\":\"15\"}\n",
              "2     {\"n\":\"680\"}  {\"n\":\"2018285\"}   {\"n\":\"7\"}   {\"n\":\"46\"}\n",
              "3     {\"n\":\"125\"}    {\"n\":\"98142\"}  {\"n\":\"11\"}   {\"n\":\"15\"}\n",
              "4     {\"n\":\"450\"}   {\"n\":\"115692\"}   {\"n\":\"9\"}   {\"n\":\"15\"}\n",
              "...           ...              ...         ...          ...\n",
              "9994  {\"n\":\"250\"}  {\"n\":\"4002074\"}  {\"n\":\"23\"}  {\"n\":\"127\"}\n",
              "9995  {\"n\":\"250\"}  {\"n\":\"2134787\"}  {\"n\":\"28\"}   {\"n\":\"53\"}\n",
              "9996  {\"n\":\"150\"}   {\"n\":\"107426\"}  {\"n\":\"53\"}   {\"n\":\"15\"}\n",
              "9997   {\"n\":\"72\"}        {\"n\":\"0\"}  {\"n\":\"26\"}   {\"n\":\"15\"}\n",
              "9998  {\"n\":\"175\"}   {\"n\":\"381875\"}   {\"n\":\"3\"}   {\"n\":\"25\"}\n",
              "\n",
              "[9999 rows x 4 columns]"
            ]
          },
          "metadata": {
            "tags": []
          },
          "execution_count": 92
        }
      ]
    },
    {
      "cell_type": "code",
      "metadata": {
        "id": "SbGI7W1_8teR",
        "colab_type": "code",
        "outputId": "e04845b8-02c8-4d80-cc5a-853bffb7e15c",
        "colab": {
          "base_uri": "https://localhost:8080/",
          "height": 104
        }
      },
      "source": [
        "df.dtypes"
      ],
      "execution_count": 93,
      "outputs": [
        {
          "output_type": "execute_result",
          "data": {
            "text/plain": [
              "ltv      object\n",
              "ttime    object\n",
              "abt      object\n",
              "tue      object\n",
              "dtype: object"
            ]
          },
          "metadata": {
            "tags": []
          },
          "execution_count": 93
        }
      ]
    },
    {
      "cell_type": "code",
      "metadata": {
        "id": "6Ht9V6oI-qsw",
        "colab_type": "code",
        "outputId": "4531342f-5e90-44e4-964a-19c9dcca2554",
        "colab": {
          "base_uri": "https://localhost:8080/",
          "height": 407
        }
      },
      "source": [
        "# Clean up dataset \n",
        "df = df.replace(['{', '\"', ':', 'n', '}'], ' ', regex=True)\n",
        "df"
      ],
      "execution_count": 94,
      "outputs": [
        {
          "output_type": "execute_result",
          "data": {
            "text/html": [
              "<div>\n",
              "<style scoped>\n",
              "    .dataframe tbody tr th:only-of-type {\n",
              "        vertical-align: middle;\n",
              "    }\n",
              "\n",
              "    .dataframe tbody tr th {\n",
              "        vertical-align: top;\n",
              "    }\n",
              "\n",
              "    .dataframe thead th {\n",
              "        text-align: right;\n",
              "    }\n",
              "</style>\n",
              "<table border=\"1\" class=\"dataframe\">\n",
              "  <thead>\n",
              "    <tr style=\"text-align: right;\">\n",
              "      <th></th>\n",
              "      <th>ltv</th>\n",
              "      <th>ttime</th>\n",
              "      <th>abt</th>\n",
              "      <th>tue</th>\n",
              "    </tr>\n",
              "  </thead>\n",
              "  <tbody>\n",
              "    <tr>\n",
              "      <th>0</th>\n",
              "      <td>250</td>\n",
              "      <td>1077572</td>\n",
              "      <td>31</td>\n",
              "      <td>38</td>\n",
              "    </tr>\n",
              "    <tr>\n",
              "      <th>1</th>\n",
              "      <td>49</td>\n",
              "      <td>60028</td>\n",
              "      <td>32</td>\n",
              "      <td>15</td>\n",
              "    </tr>\n",
              "    <tr>\n",
              "      <th>2</th>\n",
              "      <td>680</td>\n",
              "      <td>2018285</td>\n",
              "      <td>7</td>\n",
              "      <td>46</td>\n",
              "    </tr>\n",
              "    <tr>\n",
              "      <th>3</th>\n",
              "      <td>125</td>\n",
              "      <td>98142</td>\n",
              "      <td>11</td>\n",
              "      <td>15</td>\n",
              "    </tr>\n",
              "    <tr>\n",
              "      <th>4</th>\n",
              "      <td>450</td>\n",
              "      <td>115692</td>\n",
              "      <td>9</td>\n",
              "      <td>15</td>\n",
              "    </tr>\n",
              "    <tr>\n",
              "      <th>...</th>\n",
              "      <td>...</td>\n",
              "      <td>...</td>\n",
              "      <td>...</td>\n",
              "      <td>...</td>\n",
              "    </tr>\n",
              "    <tr>\n",
              "      <th>9994</th>\n",
              "      <td>250</td>\n",
              "      <td>4002074</td>\n",
              "      <td>23</td>\n",
              "      <td>127</td>\n",
              "    </tr>\n",
              "    <tr>\n",
              "      <th>9995</th>\n",
              "      <td>250</td>\n",
              "      <td>2134787</td>\n",
              "      <td>28</td>\n",
              "      <td>53</td>\n",
              "    </tr>\n",
              "    <tr>\n",
              "      <th>9996</th>\n",
              "      <td>150</td>\n",
              "      <td>107426</td>\n",
              "      <td>53</td>\n",
              "      <td>15</td>\n",
              "    </tr>\n",
              "    <tr>\n",
              "      <th>9997</th>\n",
              "      <td>72</td>\n",
              "      <td>0</td>\n",
              "      <td>26</td>\n",
              "      <td>15</td>\n",
              "    </tr>\n",
              "    <tr>\n",
              "      <th>9998</th>\n",
              "      <td>175</td>\n",
              "      <td>381875</td>\n",
              "      <td>3</td>\n",
              "      <td>25</td>\n",
              "    </tr>\n",
              "  </tbody>\n",
              "</table>\n",
              "<p>9999 rows × 4 columns</p>\n",
              "</div>"
            ],
            "text/plain": [
              "              ltv            ttime         abt          tue\n",
              "0           250          1077572          31           38  \n",
              "1            49            60028          32           15  \n",
              "2           680          2018285           7           46  \n",
              "3           125            98142          11           15  \n",
              "4           450           115692           9           15  \n",
              "...           ...              ...         ...          ...\n",
              "9994        250          4002074          23          127  \n",
              "9995        250          2134787          28           53  \n",
              "9996        150           107426          53           15  \n",
              "9997         72                0          26           15  \n",
              "9998        175           381875           3           25  \n",
              "\n",
              "[9999 rows x 4 columns]"
            ]
          },
          "metadata": {
            "tags": []
          },
          "execution_count": 94
        }
      ]
    },
    {
      "cell_type": "code",
      "metadata": {
        "id": "EGVXtcxrA5PY",
        "colab_type": "code",
        "outputId": "d04e6ef0-1459-4a08-d78b-7f41fd3b9a3e",
        "colab": {
          "base_uri": "https://localhost:8080/",
          "height": 173
        }
      },
      "source": [
        "# Verify if any missing values in df\n",
        "df.info()"
      ],
      "execution_count": 95,
      "outputs": [
        {
          "output_type": "stream",
          "text": [
            "<class 'pandas.core.frame.DataFrame'>\n",
            "RangeIndex: 9999 entries, 0 to 9998\n",
            "Data columns (total 4 columns):\n",
            "ltv      9998 non-null object\n",
            "ttime    9999 non-null object\n",
            "abt      9999 non-null object\n",
            "tue      9997 non-null object\n",
            "dtypes: object(4)\n",
            "memory usage: 312.6+ KB\n"
          ],
          "name": "stdout"
        }
      ]
    },
    {
      "cell_type": "code",
      "metadata": {
        "id": "jGccbjGYBxvi",
        "colab_type": "code",
        "outputId": "4edbda27-93b4-4166-e0ad-caf0b3cf30ee",
        "colab": {
          "base_uri": "https://localhost:8080/",
          "height": 104
        }
      },
      "source": [
        "# Let's convert the data types from string to float to simplify our \n",
        "# analysis as no unit or descriptions of the attributes were given. \n",
        "df = df.astype({'ltv': float ,'ttime': float, 'abt': float, 'tue':float})\n",
        "df.dtypes"
      ],
      "execution_count": 96,
      "outputs": [
        {
          "output_type": "execute_result",
          "data": {
            "text/plain": [
              "ltv      float64\n",
              "ttime    float64\n",
              "abt      float64\n",
              "tue      float64\n",
              "dtype: object"
            ]
          },
          "metadata": {
            "tags": []
          },
          "execution_count": 96
        }
      ]
    },
    {
      "cell_type": "code",
      "metadata": {
        "id": "ji-EsUDgGvVQ",
        "colab_type": "code",
        "outputId": "0de59ce7-e1b3-4221-e183-c2f3a510f538",
        "colab": {
          "base_uri": "https://localhost:8080/",
          "height": 288
        }
      },
      "source": [
        "df.describe()"
      ],
      "execution_count": 259,
      "outputs": [
        {
          "output_type": "execute_result",
          "data": {
            "text/html": [
              "<div>\n",
              "<style scoped>\n",
              "    .dataframe tbody tr th:only-of-type {\n",
              "        vertical-align: middle;\n",
              "    }\n",
              "\n",
              "    .dataframe tbody tr th {\n",
              "        vertical-align: top;\n",
              "    }\n",
              "\n",
              "    .dataframe thead th {\n",
              "        text-align: right;\n",
              "    }\n",
              "</style>\n",
              "<table border=\"1\" class=\"dataframe\">\n",
              "  <thead>\n",
              "    <tr style=\"text-align: right;\">\n",
              "      <th></th>\n",
              "      <th>ltv</th>\n",
              "      <th>ttime</th>\n",
              "      <th>abt</th>\n",
              "      <th>tue</th>\n",
              "    </tr>\n",
              "  </thead>\n",
              "  <tbody>\n",
              "    <tr>\n",
              "      <th>count</th>\n",
              "      <td>9998.000000</td>\n",
              "      <td>9.999000e+03</td>\n",
              "      <td>9999.000000</td>\n",
              "      <td>9997.000000</td>\n",
              "    </tr>\n",
              "    <tr>\n",
              "      <th>mean</th>\n",
              "      <td>388.522505</td>\n",
              "      <td>1.454586e+07</td>\n",
              "      <td>30.288329</td>\n",
              "      <td>193.510453</td>\n",
              "    </tr>\n",
              "    <tr>\n",
              "      <th>std</th>\n",
              "      <td>417.663415</td>\n",
              "      <td>6.360238e+07</td>\n",
              "      <td>17.405711</td>\n",
              "      <td>551.007782</td>\n",
              "    </tr>\n",
              "    <tr>\n",
              "      <th>min</th>\n",
              "      <td>0.000000</td>\n",
              "      <td>0.000000e+00</td>\n",
              "      <td>1.000000</td>\n",
              "      <td>15.000000</td>\n",
              "    </tr>\n",
              "    <tr>\n",
              "      <th>25%</th>\n",
              "      <td>200.000000</td>\n",
              "      <td>1.140965e+05</td>\n",
              "      <td>15.000000</td>\n",
              "      <td>15.000000</td>\n",
              "    </tr>\n",
              "    <tr>\n",
              "      <th>50%</th>\n",
              "      <td>250.000000</td>\n",
              "      <td>8.473500e+05</td>\n",
              "      <td>30.000000</td>\n",
              "      <td>33.000000</td>\n",
              "    </tr>\n",
              "    <tr>\n",
              "      <th>75%</th>\n",
              "      <td>450.000000</td>\n",
              "      <td>4.448765e+06</td>\n",
              "      <td>45.000000</td>\n",
              "      <td>118.000000</td>\n",
              "    </tr>\n",
              "    <tr>\n",
              "      <th>max</th>\n",
              "      <td>8481.000000</td>\n",
              "      <td>1.735807e+09</td>\n",
              "      <td>60.000000</td>\n",
              "      <td>10563.000000</td>\n",
              "    </tr>\n",
              "  </tbody>\n",
              "</table>\n",
              "</div>"
            ],
            "text/plain": [
              "               ltv         ttime          abt           tue\n",
              "count  9998.000000  9.999000e+03  9999.000000   9997.000000\n",
              "mean    388.522505  1.454586e+07    30.288329    193.510453\n",
              "std     417.663415  6.360238e+07    17.405711    551.007782\n",
              "min       0.000000  0.000000e+00     1.000000     15.000000\n",
              "25%     200.000000  1.140965e+05    15.000000     15.000000\n",
              "50%     250.000000  8.473500e+05    30.000000     33.000000\n",
              "75%     450.000000  4.448765e+06    45.000000    118.000000\n",
              "max    8481.000000  1.735807e+09    60.000000  10563.000000"
            ]
          },
          "metadata": {
            "tags": []
          },
          "execution_count": 259
        }
      ]
    },
    {
      "cell_type": "code",
      "metadata": {
        "id": "eFAaTUjvG_Vw",
        "colab_type": "code",
        "colab": {}
      },
      "source": [
        "import seaborn as sns\n",
        "import matplotlib.pyplot as plt"
      ],
      "execution_count": 0,
      "outputs": []
    },
    {
      "cell_type": "code",
      "metadata": {
        "id": "usl2iMpPQQM-",
        "colab_type": "code",
        "outputId": "9cea14fd-cfbc-4595-8c20-0182195c78d4",
        "colab": {
          "base_uri": "https://localhost:8080/",
          "height": 124
        }
      },
      "source": [
        "# Lets see if is there any linear relationships between the attributes\n",
        "df.corr().style.format(\"{:.2}\").background_gradient\\\n",
        "(cmap=plt.get_cmap('coolwarm'), axis=1)"
      ],
      "execution_count": 99,
      "outputs": [
        {
          "output_type": "execute_result",
          "data": {
            "text/html": [
              "<style  type=\"text/css\" >\n",
              "    #T_fdbc899e_1396_11ea_a291_0242ac1c0002row0_col0 {\n",
              "            background-color:  #b40426;\n",
              "            color:  #f1f1f1;\n",
              "        }    #T_fdbc899e_1396_11ea_a291_0242ac1c0002row0_col1 {\n",
              "            background-color:  #ccd9ed;\n",
              "            color:  #000000;\n",
              "        }    #T_fdbc899e_1396_11ea_a291_0242ac1c0002row0_col2 {\n",
              "            background-color:  #3b4cc0;\n",
              "            color:  #f1f1f1;\n",
              "        }    #T_fdbc899e_1396_11ea_a291_0242ac1c0002row0_col3 {\n",
              "            background-color:  #efcebd;\n",
              "            color:  #000000;\n",
              "        }    #T_fdbc899e_1396_11ea_a291_0242ac1c0002row1_col0 {\n",
              "            background-color:  #cdd9ec;\n",
              "            color:  #000000;\n",
              "        }    #T_fdbc899e_1396_11ea_a291_0242ac1c0002row1_col1 {\n",
              "            background-color:  #b40426;\n",
              "            color:  #f1f1f1;\n",
              "        }    #T_fdbc899e_1396_11ea_a291_0242ac1c0002row1_col2 {\n",
              "            background-color:  #3b4cc0;\n",
              "            color:  #f1f1f1;\n",
              "        }    #T_fdbc899e_1396_11ea_a291_0242ac1c0002row1_col3 {\n",
              "            background-color:  #eb7d62;\n",
              "            color:  #000000;\n",
              "        }    #T_fdbc899e_1396_11ea_a291_0242ac1c0002row2_col0 {\n",
              "            background-color:  #4257c9;\n",
              "            color:  #f1f1f1;\n",
              "        }    #T_fdbc899e_1396_11ea_a291_0242ac1c0002row2_col1 {\n",
              "            background-color:  #3f53c6;\n",
              "            color:  #f1f1f1;\n",
              "        }    #T_fdbc899e_1396_11ea_a291_0242ac1c0002row2_col2 {\n",
              "            background-color:  #b40426;\n",
              "            color:  #f1f1f1;\n",
              "        }    #T_fdbc899e_1396_11ea_a291_0242ac1c0002row2_col3 {\n",
              "            background-color:  #3b4cc0;\n",
              "            color:  #f1f1f1;\n",
              "        }    #T_fdbc899e_1396_11ea_a291_0242ac1c0002row3_col0 {\n",
              "            background-color:  #f1ccb8;\n",
              "            color:  #000000;\n",
              "        }    #T_fdbc899e_1396_11ea_a291_0242ac1c0002row3_col1 {\n",
              "            background-color:  #ea7b60;\n",
              "            color:  #000000;\n",
              "        }    #T_fdbc899e_1396_11ea_a291_0242ac1c0002row3_col2 {\n",
              "            background-color:  #3b4cc0;\n",
              "            color:  #f1f1f1;\n",
              "        }    #T_fdbc899e_1396_11ea_a291_0242ac1c0002row3_col3 {\n",
              "            background-color:  #b40426;\n",
              "            color:  #f1f1f1;\n",
              "        }</style><table id=\"T_fdbc899e_1396_11ea_a291_0242ac1c0002\" ><thead>    <tr>        <th class=\"blank level0\" ></th>        <th class=\"col_heading level0 col0\" >ltv</th>        <th class=\"col_heading level0 col1\" >ttime</th>        <th class=\"col_heading level0 col2\" >abt</th>        <th class=\"col_heading level0 col3\" >tue</th>    </tr></thead><tbody>\n",
              "                <tr>\n",
              "                        <th id=\"T_fdbc899e_1396_11ea_a291_0242ac1c0002level0_row0\" class=\"row_heading level0 row0\" >ltv</th>\n",
              "                        <td id=\"T_fdbc899e_1396_11ea_a291_0242ac1c0002row0_col0\" class=\"data row0 col0\" >1.0</td>\n",
              "                        <td id=\"T_fdbc899e_1396_11ea_a291_0242ac1c0002row0_col1\" class=\"data row0 col1\" >0.43</td>\n",
              "                        <td id=\"T_fdbc899e_1396_11ea_a291_0242ac1c0002row0_col2\" class=\"data row0 col2\" >-0.0066</td>\n",
              "                        <td id=\"T_fdbc899e_1396_11ea_a291_0242ac1c0002row0_col3\" class=\"data row0 col3\" >0.58</td>\n",
              "            </tr>\n",
              "            <tr>\n",
              "                        <th id=\"T_fdbc899e_1396_11ea_a291_0242ac1c0002level0_row1\" class=\"row_heading level0 row1\" >ttime</th>\n",
              "                        <td id=\"T_fdbc899e_1396_11ea_a291_0242ac1c0002row1_col0\" class=\"data row1 col0\" >0.43</td>\n",
              "                        <td id=\"T_fdbc899e_1396_11ea_a291_0242ac1c0002row1_col1\" class=\"data row1 col1\" >1.0</td>\n",
              "                        <td id=\"T_fdbc899e_1396_11ea_a291_0242ac1c0002row1_col2\" class=\"data row1 col2\" >-0.017</td>\n",
              "                        <td id=\"T_fdbc899e_1396_11ea_a291_0242ac1c0002row1_col3\" class=\"data row1 col3\" >0.81</td>\n",
              "            </tr>\n",
              "            <tr>\n",
              "                        <th id=\"T_fdbc899e_1396_11ea_a291_0242ac1c0002level0_row2\" class=\"row_heading level0 row2\" >abt</th>\n",
              "                        <td id=\"T_fdbc899e_1396_11ea_a291_0242ac1c0002row2_col0\" class=\"data row2 col0\" >-0.0066</td>\n",
              "                        <td id=\"T_fdbc899e_1396_11ea_a291_0242ac1c0002row2_col1\" class=\"data row2 col1\" >-0.017</td>\n",
              "                        <td id=\"T_fdbc899e_1396_11ea_a291_0242ac1c0002row2_col2\" class=\"data row2 col2\" >1.0</td>\n",
              "                        <td id=\"T_fdbc899e_1396_11ea_a291_0242ac1c0002row2_col3\" class=\"data row2 col3\" >-0.035</td>\n",
              "            </tr>\n",
              "            <tr>\n",
              "                        <th id=\"T_fdbc899e_1396_11ea_a291_0242ac1c0002level0_row3\" class=\"row_heading level0 row3\" >tue</th>\n",
              "                        <td id=\"T_fdbc899e_1396_11ea_a291_0242ac1c0002row3_col0\" class=\"data row3 col0\" >0.58</td>\n",
              "                        <td id=\"T_fdbc899e_1396_11ea_a291_0242ac1c0002row3_col1\" class=\"data row3 col1\" >0.81</td>\n",
              "                        <td id=\"T_fdbc899e_1396_11ea_a291_0242ac1c0002row3_col2\" class=\"data row3 col2\" >-0.035</td>\n",
              "                        <td id=\"T_fdbc899e_1396_11ea_a291_0242ac1c0002row3_col3\" class=\"data row3 col3\" >1.0</td>\n",
              "            </tr>\n",
              "    </tbody></table>"
            ],
            "text/plain": [
              "<pandas.io.formats.style.Styler at 0x7f12c2347320>"
            ]
          },
          "metadata": {
            "tags": []
          },
          "execution_count": 99
        }
      ]
    },
    {
      "cell_type": "markdown",
      "metadata": {
        "id": "UrFJq2UASG7_",
        "colab_type": "text"
      },
      "source": [
        "### Let's visualize their distributions and difference across ABgroups."
      ]
    },
    {
      "cell_type": "code",
      "metadata": {
        "id": "Gya1AL8-TFC0",
        "colab_type": "code",
        "colab": {
          "base_uri": "https://localhost:8080/",
          "height": 296
        },
        "outputId": "29dd4c9c-7db8-4fe1-af28-a75befc1ffe5"
      },
      "source": [
        "sns.boxplot(df.ttime)"
      ],
      "execution_count": 194,
      "outputs": [
        {
          "output_type": "execute_result",
          "data": {
            "text/plain": [
              "<matplotlib.axes._subplots.AxesSubplot at 0x7f12c312f080>"
            ]
          },
          "metadata": {
            "tags": []
          },
          "execution_count": 194
        },
        {
          "output_type": "display_data",
          "data": {
            "image/png": "[encoded data removed]",
            "text/plain": [
              "<Figure size 432x288 with 1 Axes>"
            ]
          },
          "metadata": {
            "tags": []
          }
        }
      ]
    },
    {
      "cell_type": "code",
      "metadata": {
        "id": "l-9w2pS2vrdk",
        "colab_type": "code",
        "colab": {
          "base_uri": "https://localhost:8080/",
          "height": 296
        },
        "outputId": "9dcfc52f-b436-4a02-a0a6-70f1241af1b6"
      },
      "source": [
        "sns.boxplot(df.ltv)"
      ],
      "execution_count": 197,
      "outputs": [
        {
          "output_type": "execute_result",
          "data": {
            "text/plain": [
              "<matplotlib.axes._subplots.AxesSubplot at 0x7f12c1cbd668>"
            ]
          },
          "metadata": {
            "tags": []
          },
          "execution_count": 197
        },
        {
          "output_type": "display_data",
          "data": {
            "image/png": "[encoded data removed]",
            "text/plain": [
              "<Figure size 432x288 with 1 Axes>"
            ]
          },
          "metadata": {
            "tags": []
          }
        }
      ]
    },
    {
      "cell_type": "code",
      "metadata": {
        "id": "4khVqnESvs5u",
        "colab_type": "code",
        "colab": {
          "base_uri": "https://localhost:8080/",
          "height": 296
        },
        "outputId": "d49219bf-389d-4010-db97-fcc97d16ae44"
      },
      "source": [
        "sns.boxplot(df.tue)"
      ],
      "execution_count": 198,
      "outputs": [
        {
          "output_type": "execute_result",
          "data": {
            "text/plain": [
              "<matplotlib.axes._subplots.AxesSubplot at 0x7f12c28235c0>"
            ]
          },
          "metadata": {
            "tags": []
          },
          "execution_count": 198
        },
        {
          "output_type": "display_data",
          "data": {
            "image/png": "[encoded data removed]",
            "text/plain": [
              "<Figure size 432x288 with 1 Axes>"
            ]
          },
          "metadata": {
            "tags": []
          }
        }
      ]
    },
    {
      "cell_type": "markdown",
      "metadata": {
        "id": "bRW8MmUCSrdX",
        "colab_type": "text"
      },
      "source": [
        "##  2 - Identify patterns in the device contents:"
      ]
    },
    {
      "cell_type": "code",
      "metadata": {
        "id": "zc3SmYYbSwXo",
        "colab_type": "code",
        "colab": {}
      },
      "source": [
        "df_2 = pd.read_csv('/content/drive/My Drive/Data analyst challenge/sts.csv')"
      ],
      "execution_count": 0,
      "outputs": []
    },
    {
      "cell_type": "code",
      "metadata": {
        "id": "SNjgnXIVURKp",
        "colab_type": "code",
        "outputId": "664a1c45-1f5e-4015-b9bb-45c160b1eed0",
        "colab": {
          "base_uri": "https://localhost:8080/",
          "height": 407
        }
      },
      "source": [
        "df_2"
      ],
      "execution_count": 110,
      "outputs": [
        {
          "output_type": "execute_result",
          "data": {
            "text/html": [
              "<div>\n",
              "<style scoped>\n",
              "    .dataframe tbody tr th:only-of-type {\n",
              "        vertical-align: middle;\n",
              "    }\n",
              "\n",
              "    .dataframe tbody tr th {\n",
              "        vertical-align: top;\n",
              "    }\n",
              "\n",
              "    .dataframe thead th {\n",
              "        text-align: right;\n",
              "    }\n",
              "</style>\n",
              "<table border=\"1\" class=\"dataframe\">\n",
              "  <thead>\n",
              "    <tr style=\"text-align: right;\">\n",
              "      <th></th>\n",
              "      <th>state</th>\n",
              "      <th>sts</th>\n",
              "    </tr>\n",
              "  </thead>\n",
              "  <tbody>\n",
              "    <tr>\n",
              "      <th>0</th>\n",
              "      <td>{\"n\":\"1\"}</td>\n",
              "      <td>{\"m\":{\"com.utorrent.client.pro\":{\"m\":{\"d30\":{\"...</td>\n",
              "    </tr>\n",
              "    <tr>\n",
              "      <th>1</th>\n",
              "      <td>{\"n\":\"1\"}</td>\n",
              "      <td>{\"m\":{\"com.tetherstudios.solitaire.klondike\":{...</td>\n",
              "    </tr>\n",
              "    <tr>\n",
              "      <th>2</th>\n",
              "      <td>{\"n\":\"0\"}</td>\n",
              "      <td>{\"m\":{\"com.ticketmaster.mobile.android.na\":{\"m...</td>\n",
              "    </tr>\n",
              "    <tr>\n",
              "      <th>3</th>\n",
              "      <td>{\"n\":\"0\"}</td>\n",
              "      <td>{\"m\":{\"com.ticketmaster.mobile.android.na\":{\"m...</td>\n",
              "    </tr>\n",
              "    <tr>\n",
              "      <th>4</th>\n",
              "      <td>{\"n\":\"1\"}</td>\n",
              "      <td>{\"m\":{\"flipboard.boxer.app\":{\"m\":{\"d30\":{\"n\":\"...</td>\n",
              "    </tr>\n",
              "    <tr>\n",
              "      <th>...</th>\n",
              "      <td>...</td>\n",
              "      <td>...</td>\n",
              "    </tr>\n",
              "    <tr>\n",
              "      <th>6086</th>\n",
              "      <td>{\"n\":\"1\"}</td>\n",
              "      <td>{\"m\":{\"com.trustonic.tuiservice\":{\"m\":{\"cat\":{...</td>\n",
              "    </tr>\n",
              "    <tr>\n",
              "      <th>6087</th>\n",
              "      <td>{\"n\":\"1\"}</td>\n",
              "      <td>{\"m\":{\"com.barclays.apps.pingit\":{\"m\":{\"cat\":{...</td>\n",
              "    </tr>\n",
              "    <tr>\n",
              "      <th>6088</th>\n",
              "      <td>{\"n\":\"1\"}</td>\n",
              "      <td>{\"m\":{\"com.fungames.sniper3d\":{\"m\":{\"cat\":{\"s\"...</td>\n",
              "    </tr>\n",
              "    <tr>\n",
              "      <th>6089</th>\n",
              "      <td>{\"n\":\"1\"}</td>\n",
              "      <td>{\"m\":{\"com.fungames.sniper3d\":{\"m\":{\"d30\":{\"n\"...</td>\n",
              "    </tr>\n",
              "    <tr>\n",
              "      <th>6090</th>\n",
              "      <td>{\"n\":\"1\"}</td>\n",
              "      <td>{\"m\":{\"com.qrcodereaderapp\":{\"m\":{\"d30\":{\"n\":\"...</td>\n",
              "    </tr>\n",
              "  </tbody>\n",
              "</table>\n",
              "<p>6091 rows × 2 columns</p>\n",
              "</div>"
            ],
            "text/plain": [
              "          state                                                sts\n",
              "0     {\"n\":\"1\"}  {\"m\":{\"com.utorrent.client.pro\":{\"m\":{\"d30\":{\"...\n",
              "1     {\"n\":\"1\"}  {\"m\":{\"com.tetherstudios.solitaire.klondike\":{...\n",
              "2     {\"n\":\"0\"}  {\"m\":{\"com.ticketmaster.mobile.android.na\":{\"m...\n",
              "3     {\"n\":\"0\"}  {\"m\":{\"com.ticketmaster.mobile.android.na\":{\"m...\n",
              "4     {\"n\":\"1\"}  {\"m\":{\"flipboard.boxer.app\":{\"m\":{\"d30\":{\"n\":\"...\n",
              "...         ...                                                ...\n",
              "6086  {\"n\":\"1\"}  {\"m\":{\"com.trustonic.tuiservice\":{\"m\":{\"cat\":{...\n",
              "6087  {\"n\":\"1\"}  {\"m\":{\"com.barclays.apps.pingit\":{\"m\":{\"cat\":{...\n",
              "6088  {\"n\":\"1\"}  {\"m\":{\"com.fungames.sniper3d\":{\"m\":{\"cat\":{\"s\"...\n",
              "6089  {\"n\":\"1\"}  {\"m\":{\"com.fungames.sniper3d\":{\"m\":{\"d30\":{\"n\"...\n",
              "6090  {\"n\":\"1\"}  {\"m\":{\"com.qrcodereaderapp\":{\"m\":{\"d30\":{\"n\":\"...\n",
              "\n",
              "[6091 rows x 2 columns]"
            ]
          },
          "metadata": {
            "tags": []
          },
          "execution_count": 110
        }
      ]
    },
    {
      "cell_type": "code",
      "metadata": {
        "id": "7ac1CzblX9nJ",
        "colab_type": "code",
        "colab": {
          "base_uri": "https://localhost:8080/",
          "height": 69
        },
        "outputId": "20274de8-be2c-4626-b615-d1837694902e"
      },
      "source": [
        "#View of the first full row\n",
        "df_2.loc[0, :]"
      ],
      "execution_count": 258,
      "outputs": [
        {
          "output_type": "execute_result",
          "data": {
            "text/plain": [
              "state                                                  1  \n",
              "sts      {\"m\":{\"com.utorrent.client.pro\":{\"m\":{\"d30\":{\"...\n",
              "Name: 0, dtype: object"
            ]
          },
          "metadata": {
            "tags": []
          },
          "execution_count": 258
        }
      ]
    },
    {
      "cell_type": "markdown",
      "metadata": {
        "id": "jwWEncNknBdl",
        "colab_type": "text"
      },
      "source": [
        "The column sts is in sring format but contains a dict."
      ]
    },
    {
      "cell_type": "code",
      "metadata": {
        "id": "kuB3ERaxYBeW",
        "colab_type": "code",
        "colab": {}
      },
      "source": [
        "df_2['state'] = df_2['state'].replace(['{', '\"', ':', 'n', '}'], ' ', regex=True)"
      ],
      "execution_count": 0,
      "outputs": []
    },
    {
      "cell_type": "code",
      "metadata": {
        "id": "Y8ZWA0ALYnjT",
        "colab_type": "code",
        "colab": {
          "base_uri": "https://localhost:8080/",
          "height": 86
        },
        "outputId": "d25e03a7-360e-41e5-a1f9-472bcb1fe381"
      },
      "source": [
        "#Lets count the number of gift card rejected\n",
        "df_2.state.value_counts()"
      ],
      "execution_count": 115,
      "outputs": [
        {
          "output_type": "execute_result",
          "data": {
            "text/plain": [
              "      1      5631\n",
              "      2       245\n",
              "      0       215\n",
              "Name: state, dtype: int64"
            ]
          },
          "metadata": {
            "tags": []
          },
          "execution_count": 115
        }
      ]
    },
    {
      "cell_type": "code",
      "metadata": {
        "id": "-OvUXMd9Yp2Q",
        "colab_type": "code",
        "colab": {
          "base_uri": "https://localhost:8080/",
          "height": 407
        },
        "outputId": "633cc32f-f845-4fc1-9187-1e765bf6729a"
      },
      "source": [
        "# Lets filter all the rejected gift card\n",
        "df_reject = df_2.state.str.contains('2')\n",
        "df_2[df_reject]"
      ],
      "execution_count": 203,
      "outputs": [
        {
          "output_type": "execute_result",
          "data": {
            "text/html": [
              "<div>\n",
              "<style scoped>\n",
              "    .dataframe tbody tr th:only-of-type {\n",
              "        vertical-align: middle;\n",
              "    }\n",
              "\n",
              "    .dataframe tbody tr th {\n",
              "        vertical-align: top;\n",
              "    }\n",
              "\n",
              "    .dataframe thead th {\n",
              "        text-align: right;\n",
              "    }\n",
              "</style>\n",
              "<table border=\"1\" class=\"dataframe\">\n",
              "  <thead>\n",
              "    <tr style=\"text-align: right;\">\n",
              "      <th></th>\n",
              "      <th>state</th>\n",
              "      <th>sts</th>\n",
              "    </tr>\n",
              "  </thead>\n",
              "  <tbody>\n",
              "    <tr>\n",
              "      <th>139</th>\n",
              "      <td>2</td>\n",
              "      <td>{\"m\":{\"com.epicactiononline.ffxv.ane\":{\"m\":{\"d...</td>\n",
              "    </tr>\n",
              "    <tr>\n",
              "      <th>180</th>\n",
              "      <td>2</td>\n",
              "      <td>{\"m\":{\"com.epicactiononline.ffxv.ane\":{\"m\":{\"d...</td>\n",
              "    </tr>\n",
              "    <tr>\n",
              "      <th>276</th>\n",
              "      <td>2</td>\n",
              "      <td>{\"m\":{\"com.epicactiononline.ffxv.ane\":{\"m\":{\"d...</td>\n",
              "    </tr>\n",
              "    <tr>\n",
              "      <th>286</th>\n",
              "      <td>2</td>\n",
              "      <td>{\"m\":{\"com.scopely.whiplash\":{\"m\":{\"cat\":{\"s\":...</td>\n",
              "    </tr>\n",
              "    <tr>\n",
              "      <th>340</th>\n",
              "      <td>2</td>\n",
              "      <td>{\"m\":{\"com.epicactiononline.ffxv.ane\":{\"m\":{\"d...</td>\n",
              "    </tr>\n",
              "    <tr>\n",
              "      <th>...</th>\n",
              "      <td>...</td>\n",
              "      <td>...</td>\n",
              "    </tr>\n",
              "    <tr>\n",
              "      <th>5787</th>\n",
              "      <td>2</td>\n",
              "      <td>{\"m\":{\"com.epicactiononline.ffxv.ane\":{\"m\":{\"d...</td>\n",
              "    </tr>\n",
              "    <tr>\n",
              "      <th>5805</th>\n",
              "      <td>2</td>\n",
              "      <td>{\"m\":{\"com.ea.game.starwarscapital_row\":{\"m\":{...</td>\n",
              "    </tr>\n",
              "    <tr>\n",
              "      <th>5944</th>\n",
              "      <td>2</td>\n",
              "      <td>{\"m\":{\"com.epicactiononline.ffxv.ane\":{\"m\":{\"d...</td>\n",
              "    </tr>\n",
              "    <tr>\n",
              "      <th>5966</th>\n",
              "      <td>2</td>\n",
              "      <td>{\"m\":{\"com.epicactiononline.ffxv.ane\":{\"m\":{\"d...</td>\n",
              "    </tr>\n",
              "    <tr>\n",
              "      <th>5985</th>\n",
              "      <td>2</td>\n",
              "      <td>{\"m\":{\"com.epicactiononline.ffxv.ane\":{\"m\":{\"d...</td>\n",
              "    </tr>\n",
              "  </tbody>\n",
              "</table>\n",
              "<p>245 rows × 2 columns</p>\n",
              "</div>"
            ],
            "text/plain": [
              "          state                                                sts\n",
              "139         2    {\"m\":{\"com.epicactiononline.ffxv.ane\":{\"m\":{\"d...\n",
              "180         2    {\"m\":{\"com.epicactiononline.ffxv.ane\":{\"m\":{\"d...\n",
              "276         2    {\"m\":{\"com.epicactiononline.ffxv.ane\":{\"m\":{\"d...\n",
              "286         2    {\"m\":{\"com.scopely.whiplash\":{\"m\":{\"cat\":{\"s\":...\n",
              "340         2    {\"m\":{\"com.epicactiononline.ffxv.ane\":{\"m\":{\"d...\n",
              "...         ...                                                ...\n",
              "5787        2    {\"m\":{\"com.epicactiononline.ffxv.ane\":{\"m\":{\"d...\n",
              "5805        2    {\"m\":{\"com.ea.game.starwarscapital_row\":{\"m\":{...\n",
              "5944        2    {\"m\":{\"com.epicactiononline.ffxv.ane\":{\"m\":{\"d...\n",
              "5966        2    {\"m\":{\"com.epicactiononline.ffxv.ane\":{\"m\":{\"d...\n",
              "5985        2    {\"m\":{\"com.epicactiononline.ffxv.ane\":{\"m\":{\"d...\n",
              "\n",
              "[245 rows x 2 columns]"
            ]
          },
          "metadata": {
            "tags": []
          },
          "execution_count": 203
        }
      ]
    },
    {
      "cell_type": "code",
      "metadata": {
        "id": "AtqV6sz3lc91",
        "colab_type": "code",
        "colab": {
          "base_uri": "https://localhost:8080/",
          "height": 35
        },
        "outputId": "b56c3128-7094-482f-8ac5-02256f4321fd"
      },
      "source": [
        "type(df_2[df_reject].sts)  #Pandas series"
      ],
      "execution_count": 176,
      "outputs": [
        {
          "output_type": "execute_result",
          "data": {
            "text/plain": [
              "pandas.core.series.Series"
            ]
          },
          "metadata": {
            "tags": []
          },
          "execution_count": 176
        }
      ]
    },
    {
      "cell_type": "markdown",
      "metadata": {
        "id": "_YhquO9osO65",
        "colab_type": "text"
      },
      "source": [
        "We need to filter the keys of the dictionary and look into the frequency of their key values ts, fi, lu and lc. That would return us a certains pattern of the content devices for all the rejected gift card.\n",
        "\n"
      ]
    },
    {
      "cell_type": "code",
      "metadata": {
        "id": "7ivuYoCFDQaz",
        "colab_type": "code",
        "colab": {
          "base_uri": "https://localhost:8080/",
          "height": 35
        },
        "outputId": "49b3c35a-fec2-4ce7-d570-536871cf5bed"
      },
      "source": [
        "# Convert to a dict and iterate to key a list of key values \n",
        "type(pd.Series.to_dict(df_2[df_reject].sts))"
      ],
      "execution_count": 248,
      "outputs": [
        {
          "output_type": "execute_result",
          "data": {
            "text/plain": [
              "dict"
            ]
          },
          "metadata": {
            "tags": []
          },
          "execution_count": 248
        }
      ]
    },
    {
      "cell_type": "code",
      "metadata": {
        "id": "8CsITQ6tDahM",
        "colab_type": "code",
        "colab": {}
      },
      "source": [
        "my_dict = pd.Series.to_dict(df_2[df_reject].sts)"
      ],
      "execution_count": 0,
      "outputs": []
    },
    {
      "cell_type": "code",
      "metadata": {
        "id": "2SLPk1_NENwS",
        "colab_type": "code",
        "colab": {
          "base_uri": "https://localhost:8080/",
          "height": 72
        },
        "outputId": "14d8cab7-0018-41ba-febe-794a8d7aeeb5"
      },
      "source": [
        "next(iter(my_dict.items()))"
      ],
      "execution_count": 257,
      "outputs": [
        {
          "output_type": "execute_result",
          "data": {
            "text/plain": [
              "(139,\n",
              " '{\"m\":{\"com.epicactiononline.ffxv.ane\":{\"m\":{\"d30\":{\"n\":\"60601463\"},\"d7\":{\"n\":\"60601463\"},\"cat\":{\"s\":\"strategy\"},\"lc\":{\"n\":\"46\"},\"stamp\":{\"n\":\"1548540127985\"},\"lu\":{\"n\":\"1548509034183\"},\"fp\":{\"n\":\"1548075016570\"},\"d1\":{\"n\":\"5009550\"}}},\"com.jellybtn.cashkingmobile\":{\"m\":{\"d30\":{\"n\":\"30312941\"},\"d7\":{\"n\":\"30312941\"},\"cat\":{\"s\":\"casual\"},\"lc\":{\"n\":\"12\"},\"stamp\":{\"n\":\"1548540127985\"},\"lu\":{\"n\":\"1548509075515\"},\"fp\":{\"n\":\"1548076453185\"},\"d1\":{\"n\":\"2656549\"}}},\"com.playstudios.popslots\":{\"m\":{\"d30\":{\"n\":\"32366669\"},\"d7\":{\"n\":\"32366669\"},\"cat\":{\"s\":\"casino\"},\"lc\":{\"n\":\"12\"},\"stamp\":{\"n\":\"1548540127985\"},\"lu\":{\"n\":\"1548509119356\"},\"fp\":{\"n\":\"1548077077044\"},\"d1\":{\"n\":\"2843502\"}}},\"com.privateinternetaccess.android\":{\"m\":{\"cat\":{\"s\":\"notgame\"},\"stamp\":{\"n\":\"1548073493258\"},\"fp\":{\"n\":\"1546334839364\"}}},\"com.scopely.yux\":{\"m\":{\"d30\":{\"n\":\"195049040\"},\"d7\":{\"n\":\"195049040\"},\"cat\":{\"s\":\"board\"},\"lc\":{\"n\":\"12\"},\"stamp\":{\"n\":\"1548540127985\"},\"lu\":{\"n\":\"1548540120593\"},\"fp\":{\"n\":\"1548074119455\"},\"d1\":{\"n\":\"100534482\"}}},\"com.enflick.android.textnow\":{\"m\":{\"cat\":{\"s\":\"notgame\"},\"stamp\":{\"n\":\"1548073493258\"},\"fp\":{\"n\":\"1546337318989\"}}},\"com.socialnmobile.dictapps.notepad.color.note\":{\"m\":{\"cat\":{\"s\":\"notgame\"},\"stamp\":{\"n\":\"1548073493258\"},\"fp\":{\"n\":\"1546339289731\"}}},\"tw.mobileapp.qrcode.banner\":{\"m\":{\"cat\":{\"s\":\"notgame\"},\"stamp\":{\"n\":\"1548073493258\"},\"fp\":{\"n\":\"1546339305303\"}}},\"com.scopely.startrek\":{\"m\":{\"d30\":{\"n\":\"69612551\"},\"d7\":{\"n\":\"69612551\"},\"cat\":{\"s\":\"strategy\"},\"lc\":{\"n\":\"34\"},\"stamp\":{\"n\":\"1548540127985\"},\"lu\":{\"n\":\"1548509161922\"},\"fp\":{\"n\":\"1548073636226\"},\"d1\":{\"n\":\"5388403\"}}},\"com.svox.pico\":{\"m\":{\"cat\":{\"s\":\"notgame\"},\"stamp\":{\"n\":\"1548073493258\"},\"fp\":{\"n\":\"1540382413000\"}}},\"com.easilydo.mail\":{\"m\":{\"cat\":{\"s\":\"notgame\"},\"stamp\":{\"n\":\"1548073493258\"},\"fp\":{\"n\":\"1546339585008\"}}},\"com.microsoft.office.outlook\":{\"m\":{\"d30\":{\"n\":\"641933\"},\"d7\":{\"n\":\"641933\"},\"cat\":{\"s\":\"notgame\"},\"stamp\":{\"n\":\"1548540132415\"},\"lu\":{\"n\":\"1548365078511\"},\"fp\":{\"n\":\"1546339627991\"},\"d1\":{\"n\":\"51545\"}}},\"com.zynga.livepoker\":{\"m\":{\"d30\":{\"n\":\"33741501\"},\"d7\":{\"n\":\"33741501\"},\"cat\":{\"s\":\"casino\"},\"lc\":{\"n\":\"22\"},\"stamp\":{\"n\":\"1548540127985\"},\"lu\":{\"n\":\"1548508989499\"},\"fp\":{\"n\":\"1548075481572\"},\"d1\":{\"n\":\"2603689\"}}},\"com.mobilewaronline.wwr\":{\"m\":{\"d30\":{\"n\":\"30149210\"},\"d7\":{\"n\":\"30149210\"},\"cat\":{\"s\":\"strategy\"},\"lc\":{\"n\":\"24\"},\"stamp\":{\"n\":\"1548540127985\"},\"lu\":{\"n\":\"1548509203255\"},\"fp\":{\"n\":\"1548074712734\"},\"d1\":{\"n\":\"2653875\"}}},\"com.mistplay.mistplay\":{\"m\":{\"d30\":{\"n\":\"4321194\"},\"d7\":{\"n\":\"4321194\"},\"cat\":{\"s\":\"notgame\"},\"lc\":{\"n\":\"5\"},\"stamp\":{\"n\":\"1548540127985\"},\"lu\":{\"n\":\"1548540127323\"},\"fp\":{\"n\":\"1548072304235\"},\"d1\":{\"n\":\"45001\"}}}}}')"
            ]
          },
          "metadata": {
            "tags": []
          },
          "execution_count": 257
        }
      ]
    }
  ]
}